{
 "cells": [
  {
   "cell_type": "markdown",
   "id": "e8381207",
   "metadata": {},
   "source": [
    "## 2.4 Mutable Data\n",
    "### 2.4.1 The Object Metaphor"
   ]
  },
  {
   "cell_type": "code",
   "execution_count": 5,
   "id": "0c9024c7",
   "metadata": {},
   "outputs": [
    {
     "name": "stdout",
     "output_type": "stream",
     "text": [
      "6 days, 0:00:00\n",
      "2014\n"
     ]
    },
    {
     "data": {
      "text/plain": [
       "'Tuesday, May 13'"
      ]
     },
     "execution_count": 5,
     "metadata": {},
     "output_type": "execute_result"
    }
   ],
   "source": [
    "from datetime import date\n",
    "tues = date(2014, 5, 13)\n",
    "print(date(2014, 5, 19) - tues)\n",
    "\n",
    "# Objects have attributes, which are named values that are part of the object.\n",
    "print(tues.year)\n",
    "\n",
    "# Objects also have methods, which are function-valued attributes.\n",
    "tues.strftime('%A, %B %d')"
   ]
  },
  {
   "cell_type": "markdown",
   "id": "d90e453c",
   "metadata": {},
   "source": [
    "Dates are objects, but numbers, strings, lists, and ranges are all objects as well. They represent values, but also behave in a manner that befits the values they represent. They also have attributes and methods. For instance, strings have an array of methods that facilitate text processing."
   ]
  },
  {
   "cell_type": "code",
   "execution_count": 7,
   "id": "f496ecec",
   "metadata": {},
   "outputs": [
    {
     "name": "stdout",
     "output_type": "stream",
     "text": [
      "True\n",
      "Robert De Niro\n",
      "True\n"
     ]
    }
   ],
   "source": [
    "print('1234'.isnumeric())\n",
    "print('rOBERT dE nIRO'.swapcase())\n",
    "print('eyes'.upper().endswith('YES'))\n",
    "\n",
    "# In fact, all values in Python are objects. \n",
    "# That is, all values have behavior and attributes. They act like the values they represent."
   ]
  },
  {
   "cell_type": "markdown",
   "id": "12716db2",
   "metadata": {},
   "source": [
    "### 2.4.2 Sequence Objects"
   ]
  },
  {
   "cell_type": "code",
   "execution_count": 18,
   "id": "1e455ffd",
   "metadata": {},
   "outputs": [],
   "source": [
    "chinese = ['coin', 'string', 'myriad']\n",
    "suits = chinese\n",
    "\n",
    "suits.pop() # Remove and return the final element\n",
    "suits.remove('string') #Remove the first element that eaquals the argument\n",
    "\n",
    "suits.append('cup') # Add an element to the end\n",
    "suits.extend(['sword', 'club']) #Add all elements of a sequence to the end\n",
    "\n",
    "suits[2] = 'spade' # Replace an element\n",
    "\n",
    "suits[0:2] = ['heart', 'diamond'] # Replace a slice\n",
    "\n",
    "# Methods also exist for inserting, sorting, and reversing lists. \n",
    "# All of these mutation operations change the value of the list; \n",
    "# they do not create new list objects.\n"
   ]
  },
  {
   "cell_type": "markdown",
   "id": "32301bff",
   "metadata": {},
   "source": [
    "#### Sharing and Identity"
   ]
  },
  {
   "cell_type": "code",
   "execution_count": 20,
   "id": "6da77725",
   "metadata": {},
   "outputs": [
    {
     "name": "stdout",
     "output_type": "stream",
     "text": [
      "['heart', 'diamond', 'spade', 'club']\n",
      "['heart', 'diamond', 'spade', 'club']\n",
      "[['heart', 'diamond', 'Joker', 'spade', 'club'], 'diamond', 'spade', 'club']\n",
      "[['heart', 'diamond', 'spade', 'club'], 'diamond', 'spade', 'club']\n",
      "True\n",
      "False\n",
      "True\n"
     ]
    }
   ],
   "source": [
    "# Sharing and Identity\n",
    "print(chinese)\n",
    "print(suits)\n",
    "\n",
    "# Lists can be copied using the list constructor function. \n",
    "# Changes to one list do not affect another, unless they share structure.\n",
    "nest = list(suits)\n",
    "nest[0] = suits\n",
    "suits.insert(2, 'Joker') # Insert an element at index 2, shifting the rest\n",
    "print(nest)\n",
    "\n",
    "# And likewise, undoing this change in the first element of nest will change suit as well.\n",
    "nest[0].pop(2)\n",
    "print(nest)\n",
    "\n",
    "# Because two lists may have the same contents but in fact be different lists, \n",
    "# we require a means to test whether two objects are the same\n",
    "print(suits is nest[0])\n",
    "print(suits is ['heart', 'diamond', 'spade', 'club'])\n",
    "print(suits == ['heart', 'diamond', 'spade', 'club'])\n",
    "# The final two comparisons illustrate the difference between is and ==. \n",
    "# The former checks for identity, while the latter checks for the equality of contents."
   ]
  },
  {
   "cell_type": "markdown",
   "id": "dbffc81f",
   "metadata": {},
   "source": [
    "#### List comprehensions\n",
    "A list comprehension always creates a new list. For example, the unicodedata module tracks the official names of every character in the Unicode alphabet."
   ]
  },
  {
   "cell_type": "code",
   "execution_count": 22,
   "id": "7e6a66e7",
   "metadata": {},
   "outputs": [
    {
     "data": {
      "text/plain": [
       "['♡', '♢', '♤', '♧']"
      ]
     },
     "execution_count": 22,
     "metadata": {},
     "output_type": "execute_result"
    }
   ],
   "source": [
    "from unicodedata import lookup\n",
    "[lookup('WHITE ' + s.upper() + ' SUIT') for s in suits]"
   ]
  },
  {
   "cell_type": "markdown",
   "id": "3143f674",
   "metadata": {},
   "source": [
    "#### Tuples\n",
    "A tuple, an instance of the built-in tuple type, is an immutable sequence. Tuples are created using a tuple literal that separates element expressions by commas. Parentheses are optional but used commonly in practice. Any objects can be placed within tuples."
   ]
  },
  {
   "cell_type": "code",
   "execution_count": 29,
   "id": "46990c8c",
   "metadata": {},
   "outputs": [],
   "source": [
    "1, 2 + 3\n",
    "(\"the\", 1, (\"and\", \"only\"))\n",
    "(10,)\n",
    "\n",
    "code = (\"up\", \"up\", \"down\", \"down\") + (\"left\", \"right\") * 2\n",
    "len(code)\n",
    "print(code[3])\n",
    "code.count(\"down\")\n",
    "code.index(\"left\")"
   ]
  },
  {
   "cell_type": "markdown",
   "id": "e9c1c466",
   "metadata": {},
   "source": [
    "However, the methods for manipulating the contents of a list are not available for tuples because tuples are immutable.\n",
    "\n",
    "While it is not possible to change which elements are in a tuple, it is possible to change the value of a mutable element contained within a tuple."
   ]
  },
  {
   "cell_type": "code",
   "execution_count": 30,
   "id": "a769dfae",
   "metadata": {},
   "outputs": [
    {
     "data": {
      "text/plain": [
       "40"
      ]
     },
     "execution_count": 30,
     "metadata": {},
     "output_type": "execute_result"
    }
   ],
   "source": [
    "nest = (10, 20, [30, 40])\n",
    "nest[2].pop()"
   ]
  },
  {
   "cell_type": "markdown",
   "id": "207f30e3",
   "metadata": {},
   "source": [
    "Tuples are used implicitly in multiple assignment. An assignment of two values to two names creates a two-element tuple and then unpacks it."
   ]
  },
  {
   "cell_type": "markdown",
   "id": "c841b244",
   "metadata": {},
   "source": [
    "### 2.4.3 Dictionaries"
   ]
  },
  {
   "cell_type": "code",
   "execution_count": 34,
   "id": "fe521ac1",
   "metadata": {},
   "outputs": [
    {
     "name": "stdout",
     "output_type": "stream",
     "text": [
      "10\n",
      "{'I': 1, 'V': 5, 'X': 10, 'L': 50}\n",
      "66\n"
     ]
    },
    {
     "data": {
      "text/plain": [
       "{3: 9, 4: 16, 5: 25}"
      ]
     },
     "execution_count": 34,
     "metadata": {},
     "output_type": "execute_result"
    }
   ],
   "source": [
    "numerals = {'I': 1.0, 'V': 5, 'X': 10}\n",
    "print(numerals['X'])\n",
    "numerals['I'] = 1\n",
    "numerals['L'] = 50\n",
    "print(numerals) # Dictionaries are unordered collections of key-value pairs.\n",
    "\n",
    "print(sum(numerals.values()))\n",
    "dict([(3, 9), (4, 16), (5, 25)]) # A list of key-value pairs can be converted into a dictionary by calling the dict constructor function.\n"
   ]
  },
  {
   "cell_type": "markdown",
   "id": "dc02a75e",
   "metadata": {},
   "source": [
    "Dictionaries do have some restrictions:\n",
    "\n",
    "- A key of a dictionary cannot be or contain a mutable value.\n",
    "- There can be at most one value for a given key.\n",
    "\n",
    "Tuples are commonly used for keys in dictionaries because lists cannot be used."
   ]
  },
  {
   "cell_type": "code",
   "execution_count": 37,
   "id": "3d9aaeb2",
   "metadata": {
    "scrolled": true
   },
   "outputs": [
    {
     "data": {
      "text/plain": [
       "5"
      ]
     },
     "execution_count": 37,
     "metadata": {},
     "output_type": "execute_result"
    }
   ],
   "source": [
    "numerals.get('A', 0) # default value\n",
    "numerals.get('V', 0)"
   ]
  },
  {
   "cell_type": "markdown",
   "id": "3ea501bb",
   "metadata": {},
   "source": [
    "Dictionaries also have a comprehension syntax analogous to those of lists. A key expression and a value expression are separated by a colon. Evaluating a dictionary comprehension creates a new dictionary object."
   ]
  },
  {
   "cell_type": "code",
   "execution_count": 38,
   "id": "4c0442b9",
   "metadata": {},
   "outputs": [
    {
     "data": {
      "text/plain": [
       "{3: 9, 4: 16, 5: 25}"
      ]
     },
     "execution_count": 38,
     "metadata": {},
     "output_type": "execute_result"
    }
   ],
   "source": [
    "{x: x*x for x in range(3,6)}"
   ]
  },
  {
   "cell_type": "markdown",
   "id": "34d0e679",
   "metadata": {},
   "source": [
    "### 2.4.4 Local State\n",
    "```\n",
    ">>> withdraw(25)\n",
    "75\n",
    ">>> withdraw(25)\n",
    "50\n",
    ">>> withdraw(60)\n",
    "'Insufficient funds'\n",
    "```\n",
    "Above, the expression withdraw(25), evaluated twice, yields different values. Thus, this user-defined function is non-pure. Calling the function not only returns a value, but also has the side effect of changing the function in some way, so that the next call with the same argument will return a different result. This side effect is a result of withdraw making a change to a name-value binding outside of the current frame.\n",
    "\n",
    "For withdraw to make sense, it must be created with an initial account balance. The function make_withdraw is a higher-order function that takes a starting balance as an argument. The function withdraw is its return value.\n",
    "\n",
    "```\n",
    "withdraw = make_withdraw(100)\n",
    "```"
   ]
  },
  {
   "cell_type": "code",
   "execution_count": null,
   "id": "0c4aea1f",
   "metadata": {},
   "outputs": [],
   "source": [
    "def make_withdraw(balance):\n",
    "    \"\"\"Return a withdraw fuction that draws down balance with each call.\"\"\"\n",
    "    def withdraw(amount):\n",
    "        nonlocal balance     # Declare the name \"balance\" nonlocal\n",
    "        if amount > balance:\n",
    "            return 'Insufficient funds'\n",
    "        balance = balance - amount\n",
    "        return balance\n",
    "    return withdraw"
   ]
  },
  {
   "attachments": {
    "image.png": {
     "image/png": "[encoded data removed]"
    }
   },
   "cell_type": "markdown",
   "id": "404be3a3",
   "metadata": {},
   "source": [
    "The nonlocal statement declares that whenever we change the binding of the name balance, the binding is changed in the first frame in which balance is already bound. Recall that without the nonlocal statement, an assignment statement would always bind a name in the first frame of the current environment. \n",
    "\n",
    "The nonlocal statement indicates that the name appears somewhere in the environment other than the first (local) frame or the last (global) frame.\n",
    "![image.png](attachment:image.png)"
   ]
  },
  {
   "cell_type": "markdown",
   "id": "b8a0e28a",
   "metadata": {},
   "source": [
    "By introducing nonlocal statements, we have created a dual role for assignment statements. Either they change local bindings, or they change nonlocal bindings. In fact, assignment statements already had a dual role: they either created new bindings or re-bound existing names. Assignment can also change the contents of lists and dictionaries. The many roles of Python assignment can obscure the effects of executing an assignment statement. It is up to you as a programmer to document your code clearly so that the effects of assignment can be understood by others.\n",
    "\n"
   ]
  },
  {
   "cell_type": "markdown",
   "id": "3c296b3d",
   "metadata": {},
   "source": [
    "### 2.4.5 The Benefits of Non-Local Assignment\n",
    "### 2.4.6 The Cost of Non-Local Assignment\n",
    "### 2.4.7 Implementing Lists and Dictionaries"
   ]
  },
  {
   "cell_type": "code",
   "execution_count": 39,
   "id": "cafb1bd8",
   "metadata": {},
   "outputs": [],
   "source": [
    "empty = 'empty'\n",
    "\n",
    "def is_link(s):\n",
    "    \"\"\"s is linked list if it is empty or a (first, rest) pair.\"\"\"\n",
    "    return s == empty or (len(s) == 2 and is_link(s[1]))\n",
    "\n",
    "def link(first, rest):\n",
    "    \"\"\"Construct a linked list from its first element and the rest.\"\"\"\n",
    "    assert is_link(rest), \"rest must be a linked list.\"\n",
    "    return [first, rest]\n",
    "\n",
    "def first(s):\n",
    "    \"\"\"Return the first element of a linked list s.\"\"\"\n",
    "    assert is_link(s), \"rest only applies to linked lists.\"\n",
    "    assert s != empty, \"empty linked list has no first element.\"\n",
    "    return s[0]\n",
    "\n",
    "def rest(s):\n",
    "    \"\"\"Return the rest of the elements of a linked list s.\"\"\"\n",
    "    assert is_link(s), \"rest only applies to linked lists.\"\n",
    "    assert s != empty, \"empty linked list has no rest.\"\n",
    "    return s[1]\n",
    "\n",
    "def len_link(s):\n",
    "    \"\"\"Return the length of linked list s.\"\"\"\n",
    "    length = 0\n",
    "    while s != empty:\n",
    "        s, length = rest(s), length + 1\n",
    "    return length\n",
    "\n",
    "def getitem_link(s, i):\n",
    "    \"\"\"Return the element at index i of linked list s.\"\"\"\n",
    "    while i > 0:\n",
    "        s, i =rest(s), i - 1\n",
    "    return first(s)\n",
    "\n",
    "def join_link(s, separator):\n",
    "    \"\"\"Return a string of all elements in s separated by separator.\"\"\"\n",
    "    if s == empty:\n",
    "        return \"\"\n",
    "    elif rest(s) == empty:\n",
    "        return str(first(s))\n",
    "    else:\n",
    "        return str(first(s)) + separator + join_link(rest(s), separator)"
   ]
  },
  {
   "cell_type": "code",
   "execution_count": 41,
   "id": "99613c1a",
   "metadata": {},
   "outputs": [
    {
     "ename": "IndentationError",
     "evalue": "unindent does not match any outer indentation level (<tokenize>, line 20)",
     "output_type": "error",
     "traceback": [
      "\u001b[1;36m  File \u001b[1;32m<tokenize>:20\u001b[1;36m\u001b[0m\n\u001b[1;33m    def to_mutable_link(source):\u001b[0m\n\u001b[1;37m    ^\u001b[0m\n\u001b[1;31mIndentationError\u001b[0m\u001b[1;31m:\u001b[0m unindent does not match any outer indentation level\n"
     ]
    }
   ],
   "source": [
    "def mutable_link():\n",
    "    \"\"\"Return a functional implementation of a mutable linked list.\"\"\"\n",
    "    contents = empty\n",
    "    def dispatch(message, value=None):\n",
    "        nonlocal contents\n",
    "        if message == 'len':\n",
    "            return len_link(contents)\n",
    "        elif message == 'getitem':\n",
    "            return getitem_link(contents, value)\n",
    "        elif message == 'push_first':\n",
    "            contents = link(value, contents)\n",
    "        elif message == 'pop_first':\n",
    "            f = first(contents)\n",
    "            contents = rest(contents)\n",
    "            return f\n",
    "        elif message == 'str':\n",
    "            return join_link(contents, \", \")\n",
    "    return dispatch\n",
    "\n",
    " def to_mutable_link(source):\n",
    "        \"\"\"Return a functional list with the same contents as source.\"\"\"\n",
    "        s = mutable_link()\n",
    "        for element in reversed(source):\n",
    "            s('push_first', element)\n",
    "        return s\n",
    "        \n"
   ]
  }
 ],
 "metadata": {
  "kernelspec": {
   "display_name": "Python 3 (ipykernel)",
   "language": "python",
   "name": "python3"
  },
  "language_info": {
   "codemirror_mode": {
    "name": "ipython",
    "version": 3
   },
   "file_extension": ".py",
   "mimetype": "text/x-python",
   "name": "python",
   "nbconvert_exporter": "python",
   "pygments_lexer": "ipython3",
   "version": "3.9.12"
  }
 },
 "nbformat": 4,
 "nbformat_minor": 5
}
