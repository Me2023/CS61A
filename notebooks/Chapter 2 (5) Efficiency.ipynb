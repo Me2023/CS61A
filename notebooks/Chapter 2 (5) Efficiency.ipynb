{
 "cells": [
  {
   "cell_type": "markdown",
   "metadata": {},
   "source": [
    "## 2.8 Efficiency\n",
    "### 2.8.1 Measuring Efficiency"
   ]
  },
  {
   "cell_type": "code",
   "execution_count": 1,
   "metadata": {},
   "outputs": [
    {
     "name": "stdout",
     "output_type": "stream",
     "text": [
      "4181\n",
      "13529\n"
     ]
    }
   ],
   "source": [
    "def fib(n):\n",
    "    if n == 0:\n",
    "        return 0\n",
    "    if n == 1:\n",
    "        return 1\n",
    "    return fib(n-2) + fib(n-1)\n",
    "\n",
    "def count(f):\n",
    "    def counted(*args):\n",
    "        counted.call_count += 1\n",
    "        return f(*args)\n",
    "    counted.call_count = 0\n",
    "    return counted\n",
    "\n",
    "\n",
    "fib = count(fib)\n",
    "print(fib(19))\n",
    "print(fib.call_count)"
   ]
  },
  {
   "cell_type": "markdown",
   "metadata": {},
   "source": [
    "#### Space"
   ]
  },
  {
   "cell_type": "code",
   "execution_count": 2,
   "metadata": {},
   "outputs": [],
   "source": [
    "def count_frames(f):\n",
    "    def counted(*args):\n",
    "        counted.open_count += 1\n",
    "        counted.max_count = max(counted.max_count, counted.open_count)\n",
    "        result = f(*args)\n",
    "        counted.open_count -= 1\n",
    "        return result\n",
    "    counted.open_count = 0\n",
    "    counted.max_count = 0\n",
    "    return counted"
   ]
  },
  {
   "cell_type": "markdown",
   "metadata": {},
   "source": [
    "### 2.8.2 Memoization\n"
   ]
  },
  {
   "cell_type": "code",
   "execution_count": 3,
   "metadata": {},
   "outputs": [],
   "source": [
    "def memo(f):\n",
    "    cache = {}\n",
    "    def memoized(n):\n",
    "        if n not in cache:\n",
    "            cache[n] = f(n)\n",
    "        return cache[n]\n",
    "    return memoized"
   ]
  },
  {
   "cell_type": "code",
   "execution_count": 4,
   "metadata": {},
   "outputs": [
    {
     "name": "stdout",
     "output_type": "stream",
     "text": [
      "4181 20\n"
     ]
    }
   ],
   "source": [
    "counted_fib = count(fib)\n",
    "fib = memo(counted_fib)\n",
    "print(fib(19), counted_fib.call_count)"
   ]
  },
  {
   "cell_type": "markdown",
   "metadata": {},
   "source": [
    "### 2.8.3 Orders of Growth"
   ]
  },
  {
   "cell_type": "markdown",
   "metadata": {},
   "source": [
    "### 2.8.4 Example: Exponentiation"
   ]
  },
  {
   "cell_type": "code",
   "execution_count": 1,
   "metadata": {},
   "outputs": [],
   "source": [
    "def exp(b, n):\n",
    "    if n == 0:\n",
    "        return 1\n",
    "    return b * exp(b, n-1)\n",
    "\n",
    "# We can readily formulate an equivalent linear iteration that requires a similar number of steps but constant space.\n",
    "def exp_iter(b, n):\n",
    "    result = 1\n",
    "    for _ in range(n):\n",
    "        result = result * b\n",
    "    return result\n",
    "\n",
    "\n",
    "def square(x):\n",
    "    return x * x\n",
    "\n",
    "def fast_exp(b, n):\n",
    "    if n == 0:\n",
    "        return 1\n",
    "    if n % 2 == 0:\n",
    "        return square(fast_exp(b, n//2))\n",
    "    else:\n",
    "        return b * fast_exp(b, n-1)\n",
    "# The process evolved by fast_exp grows logarithmically with n in both space and number of steps"
   ]
  },
  {
   "cell_type": "markdown",
   "metadata": {},
   "source": [
    "### 2.8.5 Growth Categories\n"
   ]
  }
 ],
 "metadata": {
  "kernelspec": {
   "display_name": "Python 3.10.5 64-bit",
   "language": "python",
   "name": "python3"
  },
  "language_info": {
   "codemirror_mode": {
    "name": "ipython",
    "version": 3
   },
   "file_extension": ".py",
   "mimetype": "text/x-python",
   "name": "python",
   "nbconvert_exporter": "python",
   "pygments_lexer": "ipython3",
   "version": "3.10.5"
  },
  "orig_nbformat": 4,
  "vscode": {
   "interpreter": {
    "hash": "9602f8c35a350c7a70699f60fbe2e61e3e2a9c64108871fc1f9dd823bd15e54f"
   }
  }
 },
 "nbformat": 4,
 "nbformat_minor": 2
}
