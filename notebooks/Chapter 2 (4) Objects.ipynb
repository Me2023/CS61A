{
 "cells": [
  {
   "cell_type": "markdown",
   "id": "a7f49c7c",
   "metadata": {},
   "source": [
    "## 2.5 Object-Oriented Programming\n",
    "### 2.5.1 Objects and Classes"
   ]
  },
  {
   "cell_type": "code",
   "execution_count": 36,
   "id": "0b7f51de",
   "metadata": {},
   "outputs": [
    {
     "name": "stdout",
     "output_type": "stream",
     "text": [
      "big and red \n",
      " No thanks \n",
      " <class '__main__.Clown'>\n"
     ]
    }
   ],
   "source": [
    "class Clown:\n",
    "    nose = 'big and red'\n",
    "    def dance():\n",
    "        return 'No thanks'\n",
    "print(Clown.nose, '\\n', Clown.dance(),'\\n',Clown)\n"
   ]
  },
  {
   "cell_type": "markdown",
   "id": "72e35459",
   "metadata": {},
   "source": [
    "The method that initializes objects has a special name in Python, __init__ (two underscores on each side of the word \"init\"), and is called the *constructor* for the class."
   ]
  },
  {
   "cell_type": "markdown",
   "id": "9a3ed1b8",
   "metadata": {},
   "source": [
    "t__ (two underscores on each side of the word \"init\"), and is called the *constructor* for the class."
   ]
  },
  {
   "cell_type": "code",
   "execution_count": 37,
   "id": "121b08dd",
   "metadata": {},
   "outputs": [],
   "source": [
    "class Account:\n",
    "    def __init__(self, account_holder):\n",
    "        self.balance = 0\n",
    "        self.holder = account_holder"
   ]
  },
  {
   "cell_type": "code",
   "execution_count": 38,
   "id": "cea34e48",
   "metadata": {},
   "outputs": [
    {
     "name": "stdout",
     "output_type": "stream",
     "text": [
      "True \n",
      " True \n",
      " True\n"
     ]
    }
   ],
   "source": [
    "# Identity\n",
    "a = Account('Kirk')\n",
    "b = Account('Spock')\n",
    "b.balance = 200\n",
    "c = a\n",
    "print(a is a, '\\n', a is not b, '\\n', c is a)"
   ]
  },
  {
   "cell_type": "code",
   "execution_count": 39,
   "id": "0c03c848",
   "metadata": {},
   "outputs": [
    {
     "name": "stdout",
     "output_type": "stream",
     "text": [
      "<class 'function'>\n",
      "<class 'method'>\n"
     ]
    },
    {
     "data": {
      "text/plain": [
       "2001"
      ]
     },
     "execution_count": 39,
     "metadata": {},
     "output_type": "execute_result"
    }
   ],
   "source": [
    "# Methods\n",
    "class Account:\n",
    "    def __init__(self, account_holder):\n",
    "        self.balance = 0\n",
    "        self.holder = account_holder\n",
    "    \n",
    "    def deposit(self, amount):\n",
    "        self.balance = self.balance + amount\n",
    "        return self.balance\n",
    "    \n",
    "    def withdraw(self, amount):\n",
    "        if amount > self.balance:\n",
    "            return 'Insufficient funds'\n",
    "        self.balance = self.balance - amount\n",
    "        return self.balance\n",
    "\n",
    "spock_account = Account('Spock')\n",
    "print(type(Account.deposit))\n",
    "print(type(spock_account.deposit))\n",
    "\n",
    "Account.deposit(spock_account, 1001)\n",
    "spock_account.deposit(1000) "
   ]
  },
  {
   "cell_type": "code",
   "execution_count": 40,
   "id": "f99cfd64",
   "metadata": {},
   "outputs": [
    {
     "name": "stdout",
     "output_type": "stream",
     "text": [
      "100\n"
     ]
    },
    {
     "data": {
      "text/plain": [
       "True"
      ]
     },
     "execution_count": 40,
     "metadata": {},
     "output_type": "execute_result"
    }
   ],
   "source": [
    "# Attributes\n",
    "john = Account('John')\n",
    "getattr(john, 'balance')\n",
    "john.deposit(100)\n",
    "print(getattr(john, 'balance'))\n",
    "hasattr(john, 'balance') # test whether an object has a named attribute with hasattr"
   ]
  },
  {
   "cell_type": "code",
   "execution_count": 41,
   "id": "33359d1f",
   "metadata": {},
   "outputs": [
    {
     "name": "stdout",
     "output_type": "stream",
     "text": [
      "<class 'function'>\n",
      "<class 'method'>\n"
     ]
    },
    {
     "data": {
      "text/plain": [
       "2001"
      ]
     },
     "execution_count": 41,
     "metadata": {},
     "output_type": "execute_result"
    }
   ],
   "source": [
    "print(type(Account.deposit))\n",
    "tom_account = Account('Tom')\n",
    "print(type(tom_account.deposit))\n",
    "\n",
    "Account.deposit(tom_account, 1001)\n",
    "tom_account.deposit(1000)"
   ]
  },
  {
   "cell_type": "markdown",
   "id": "c2e3a97b",
   "metadata": {},
   "source": [
    "### 2.5.4 Class Attributes"
   ]
  },
  {
   "cell_type": "code",
   "execution_count": 42,
   "id": "e9386593",
   "metadata": {},
   "outputs": [],
   "source": [
    "class Account:\n",
    "    interest = 0.02\n",
    "    def __init__(self, account_holder):\n",
    "        self.balance = 0\n",
    "        self.holder = account_holder\n",
    "        \n",
    "spock_account = Account('Spock')\n",
    "kirk_account = Account('Kirk')\n",
    "s1 = spock_account.interest\n",
    "k1 = kirk_account.interest\n",
    "\n",
    "Account.interest = 0.04\n",
    "s2 = spock_account.interest\n",
    "k2 = kirk_account.interest"
   ]
  },
  {
   "cell_type": "markdown",
   "id": "d9534dae",
   "metadata": {},
   "source": [
    "#### Attribute assignment"
   ]
  },
  {
   "cell_type": "code",
   "execution_count": 43,
   "id": "6f278f4d",
   "metadata": {},
   "outputs": [],
   "source": [
    "kirk_account.interest = 0.08\n",
    "s3 = spock_account.interest\n",
    "k3 = kirk_account.interest\n",
    "\n",
    "Account.interest = 0.05\n",
    "s4 = spock_account.interest\n",
    "k4 = kirk_account.interest"
   ]
  },
  {
   "cell_type": "markdown",
   "id": "57f320ae",
   "metadata": {},
   "source": [
    "### 2.5.5 Inheritance\n",
    "parent class, superclass, base class\n",
    "\n",
    "child class, subclass\n",
    "\n",
    "A subclass inherits the attributes of its base class, but may override certain attributes, including certain methods. With inheritance, we only specify what is different between the subclass and the base class. Anything that we leave unspecified in the subclass is automatically assumed to behave just as it would for the base class.\n",
    "\n",
    "```\n",
    "class <name>(<base class>):\n",
    "    <suite>\n",
    "    \n",
    "```"
   ]
  },
  {
   "cell_type": "markdown",
   "id": "ebf688b6",
   "metadata": {},
   "source": [
    "### 2.5.6 Using Inheritance"
   ]
  },
  {
   "cell_type": "code",
   "execution_count": 44,
   "id": "7d1f23ac",
   "metadata": {},
   "outputs": [],
   "source": [
    "class Account:\n",
    "    \"\"\"A bank account that has a non-negative balance.\"\"\"\n",
    "    interest = 0.02\n",
    "    def __init__(self, account_holder):\n",
    "        self.balance = 0\n",
    "        self.holder = account_holder\n",
    "    def deposit(self, amount):\n",
    "        \"\"\"Increase the account balance by amount and return the new balance.\"\"\"\n",
    "        self.balance = self.balance + amount\n",
    "        return self.balance\n",
    "    def withdraw(self, amount):\n",
    "        \"\"\"Decrease the account balance by amount and return the new balance.\"\"\"\n",
    "        if amount > self.balance:\n",
    "            return 'Insufficient funds'\n",
    "        self.balance = self.balance - amount\n",
    "        return self.balance\n",
    "    \n",
    "class CheckingAccount(Account):\n",
    "    withdraw_charge = 1\n",
    "    interest = 0.01\n",
    "    def withdraw(self, amount):\n",
    "        return Account.withdraw(self, amount + self.withdraw_charge)"
   ]
  },
  {
   "cell_type": "code",
   "execution_count": 45,
   "id": "7a49a14a",
   "metadata": {},
   "outputs": [],
   "source": [
    "checking = CheckingAccount('Sam')\n",
    "checking.deposit(10)\n",
    "checking.withdraw(5)\n",
    "Sam1 = checking.interest\n",
    "Sam2 = checking.balance"
   ]
  },
  {
   "cell_type": "markdown",
   "id": "b1f8cdd9",
   "metadata": {},
   "source": [
    "In the case of deposit, Python would have looked for the name first on the instance, and then in the CheckingAccount class. Finally, it would look in the Account class, where deposit is defined."
   ]
  },
  {
   "cell_type": "markdown",
   "id": "a6fc8662",
   "metadata": {},
   "source": [
    "The parts of your program that use objects (rather than implementing them) are most robust to future changes if they do not make assumptions about object types, but instead only about their attribute names."
   ]
  },
  {
   "cell_type": "code",
   "execution_count": 46,
   "id": "697e0e75",
   "metadata": {},
   "outputs": [],
   "source": [
    "# it will work with any other account classes that also implement this interface\n",
    "def deposit_all(winners, amount=5):\n",
    "    for account in winners:\n",
    "        account.deposit(amount)\n",
    "# the following implementation will not necessarily work with new kinds of accounts\n",
    "def deposit_all(winners, amount=5):\n",
    "    for account in winners:\n",
    "        Account.deposit(account, amount)\n"
   ]
  },
  {
   "cell_type": "markdown",
   "id": "67df0ced",
   "metadata": {},
   "source": [
    "### 2.5.7 Multiple Inheritance"
   ]
  },
  {
   "cell_type": "code",
   "execution_count": 47,
   "id": "d9771ca4",
   "metadata": {},
   "outputs": [],
   "source": [
    "class SavingsAccount(Account):\n",
    "    deposit_charge = 2\n",
    "    def deposit(self, amount):\n",
    "        return Account.deposit(self, amount - self.deposit_charge)\n",
    "\n",
    "class AsSeenOnTVAccount(CheckingAccount, SavingsAccount):\n",
    "    def __init__(self, account_holder):\n",
    "        self.holder = account_holder\n",
    "        self.balance = 1"
   ]
  },
  {
   "cell_type": "code",
   "execution_count": 48,
   "id": "e19992eb",
   "metadata": {},
   "outputs": [],
   "source": [
    "such_a_deal = AsSeenOnTVAccount(\"John\")\n",
    "j1 = such_a_deal.balance\n",
    "j2 = such_a_deal.deposit(20)\n",
    "j3 = such_a_deal.withdraw(5)\n",
    "\n",
    "j4 = such_a_deal.deposit_charge\n",
    "j5 = such_a_deal.withdraw_charge"
   ]
  },
  {
   "cell_type": "markdown",
   "id": "ef82beaf",
   "metadata": {},
   "source": [
    "But what about when the reference is ambiguous, such as the reference to the withdraw method that is defined in both Account and CheckingAccount? \n",
    "\n",
    "Python checks for an attribute name in the following classes, in order, until an attribute with that name is found:\n",
    "\n",
    "AsSeenOnTVAccount, CheckingAccount, SavingsAccount, Account, object"
   ]
  },
  {
   "cell_type": "markdown",
   "id": "e5a8d749",
   "metadata": {},
   "source": [
    "#### Inheri"
   ]
  },
  {
   "cell_type": "code",
   "execution_count": 49,
   "id": "e51b00ce",
   "metadata": {},
   "outputs": [],
   "source": [
    "class Bank:\n",
    "    \"\"\"A bank *has* accounts.\n",
    "    \n",
    "    >>> bank = Bank()\n",
    "    >>> john = bank.open_account('John', 10)\n",
    "    >>> jack = bank.open_account('Jack', 5, CheckingAccount)\n",
    "    >>> john.interest\n",
    "    0.02\n",
    "    >>> jack.interest\n",
    "    0.01\n",
    "    >>> bank.payinterest()\n",
    "    >>> john.balance\n",
    "    10.2\n",
    "    >>> bank.too_big_to_fail()\n",
    "    True\n",
    "    \"\"\"\n",
    "    \n",
    "    def __init__(self):\n",
    "        self.accounts = []\n",
    "    \n",
    "    def open_account(self, holder, amount, kind=Account):\n",
    "        account = kind(holder)\n",
    "        account.deposit(amount)\n",
    "        self.accounts.append(account)\n",
    "        return account\n",
    "    \n",
    "    def pay_interest(self):\n",
    "        for a in self.accounts:\n",
    "            a.deposit(a.balance * a.interest)\n",
    "    \n",
    "    def too_big_to_fail(self):\n",
    "        return len(self.accounts) > 1"
   ]
  },
  {
   "cell_type": "markdown",
   "id": "a4534eb1",
   "metadata": {},
   "source": [
    "## 2.7 Object Abstraction\n",
    "### 2.7.1 String Conversion\n"
   ]
  },
  {
   "cell_type": "code",
   "execution_count": 50,
   "id": "8a85af44",
   "metadata": {},
   "outputs": [
    {
     "name": "stdout",
     "output_type": "stream",
     "text": [
      "datetime.date(2011, 9, 12)\n",
      "2011-09-12\n",
      "datetime.date(2011, 9, 12)\n",
      "2011-09-12\n"
     ]
    }
   ],
   "source": [
    "from datetime import date\n",
    "tues = date(2011, 9, 12)\n",
    "print(repr(tues))\n",
    "print(str(tues))\n",
    "\n",
    "print(tues.__repr__())\n",
    "print(tues.__str__())\n"
   ]
  },
  {
   "cell_type": "markdown",
   "id": "02f591c9",
   "metadata": {},
   "source": [
    "\n",
    "### 2.7.2 Special Methods\n",
    "\n",
    "#### True and false values\n"
   ]
  },
  {
   "cell_type": "code",
   "execution_count": 51,
   "metadata": {},
   "outputs": [
    {
     "data": {
      "text/plain": [
       "False"
      ]
     },
     "execution_count": 51,
     "metadata": {},
     "output_type": "execute_result"
    }
   ],
   "source": [
    "Account.__bool__ = lambda self: self.balance != 0\n",
    "bool(Account('Jack'))\n"
   ]
  },
  {
   "cell_type": "markdown",
   "id": "7bf02699",
   "metadata": {},
   "source": [
    "#### Sequence operations"
   ]
  },
  {
   "cell_type": "code",
   "execution_count": 52,
   "id": "53502cdd",
   "metadata": {},
   "outputs": [
    {
     "data": {
      "text/plain": [
       "9"
      ]
     },
     "execution_count": 52,
     "metadata": {},
     "output_type": "execute_result"
    }
   ],
   "source": [
    "len('Go Bears!')\n",
    "'Go Bears!'.__len__()"
   ]
  },
  {
   "cell_type": "markdown",
   "id": "240c249c",
   "metadata": {},
   "source": [
    "#### Callable objects\n",
    "In Python, functions are first-class objects, so they can be passed around as data and have attributes like any other object. Python also allows us to define objects that can be \"called\" like functions by including a __call__ method. With this method, we can define a class that behaves like a higher-order function."
   ]
  },
  {
   "cell_type": "code",
   "execution_count": 53,
   "id": "495489e7",
   "metadata": {},
   "outputs": [
    {
     "name": "stdout",
     "output_type": "stream",
     "text": [
      "7\n",
      "7\n"
     ]
    }
   ],
   "source": [
    "def make_adder(n):\n",
    "    def adder(k):\n",
    "        return n + k\n",
    "    return adder\n",
    "\n",
    "add_three = make_adder(3)\n",
    "print(add_three(4))\n",
    "\n",
    "\n",
    "class Adder(object):\n",
    "    def __init__(self, n):\n",
    "        self.n = n\n",
    "    def __call__(self, k):\n",
    "        return self.n + k\n",
    "add_three_obj = Adder(3)\n",
    "print(add_three_obj(4))"
   ]
  },
  {
   "cell_type": "markdown",
   "id": "370667cc",
   "metadata": {},
   "source": [
    "### 2.7.3 Multiple Representations\n"
   ]
  },
  {
   "cell_type": "code",
   "execution_count": 54,
   "id": "24eef4d9",
   "metadata": {},
   "outputs": [],
   "source": [
    "class Number:\n",
    "    def __add__(self, other):\n",
    "        return self.add(other)\n",
    "    def __mul__(self, other):\n",
    "        return self.mul(other)"
   ]
  },
  {
   "cell_type": "markdown",
   "id": "619f5ef9",
   "metadata": {},
   "source": [
    "This class requires that Number objects have add and mul methods, but does not define them. Moreover, it does not have an __init__ method. The purpose of Number is not to be instantiated directly, but instead to serve as a superclass of various specific number classes. Our next task is to define add and mul appropriately for complex numbers."
   ]
  },
  {
   "cell_type": "code",
   "execution_count": 55,
   "id": "897f2efc",
   "metadata": {},
   "outputs": [],
   "source": [
    "class Complex(Number):\n",
    "    def add(self, other):\n",
    "        return ComplexRI(self.real + other.real, self.imag + other.imag)\n",
    "    def mul(self, other):\n",
    "        magnitude = self.magnitude * other.magnitude\n",
    "        return ComplexMA(magnitude, self.angle + other.angle)"
   ]
  },
  {
   "cell_type": "markdown",
   "id": "58d0c7c3",
   "metadata": {},
   "source": [
    "This implementation assumes that two classes exist for complex numbers, corresponding to their two natural representations:\n",
    "\n",
    "- ComplexRI constructs a complex number from real and imaginary parts.\n",
    "- ComplexMA constructs a complex number from a magnitude and angle."
   ]
  },
  {
   "cell_type": "markdown",
   "id": "4228e1d5",
   "metadata": {},
   "source": [
    "#### Interfaces\n",
    "A shared set of messages that elicit similar behavior from different classes is a powerful method of abstraction. An interface is a set of shared attribute names, along with a specification of their behavior. \n",
    "\n",
    "In the case of complex numbers, the interface needed to implement arithmetic consists of four attributes: real, imag, magnitude, and angle."
   ]
  },
  {
   "cell_type": "markdown",
   "id": "c1bee996",
   "metadata": {},
   "source": [
    "#### Properties\n",
    "Python has a simple feature for computing attributes on the fly from zero-argument functions. The @property decorator allows functions to be called without call expression syntax (parentheses following an expression). The ComplexRI class stores real and imag attributes and computes magnitude and angle on demand."
   ]
  },
  {
   "cell_type": "code",
   "execution_count": 56,
   "id": "e8605593",
   "metadata": {},
   "outputs": [
    {
     "name": "stdout",
     "output_type": "stream",
     "text": [
      "5\n",
      "13.0\n"
     ]
    },
    {
     "data": {
      "text/plain": [
       "15.0"
      ]
     },
     "execution_count": 56,
     "metadata": {},
     "output_type": "execute_result"
    }
   ],
   "source": [
    "from math import atan2\n",
    "class ComplexRI(Complex):\n",
    "    def __init__(self, real, imag):\n",
    "        self.real = real\n",
    "        self.imag = imag\n",
    "    @property\n",
    "    def magnitude(self):\n",
    "        return (self.real ** 2 + self.imag ** 2) ** 0.5\n",
    "    @property\n",
    "    def angle(self):\n",
    "        return atan2(self.imag, self.real)\n",
    "    def __repr__(self):\n",
    "        return 'ComplexRI({0:g}, {1:g})'.format(self.real, self.imag)\n",
    "    \n",
    "ri = ComplexRI(5, 12)\n",
    "print(ri.real)\n",
    "print(ri.magnitude)\n",
    "ri.real = 9\n",
    "ri.magnitude"
   ]
  },
  {
   "cell_type": "code",
   "execution_count": 57,
   "id": "71361214",
   "metadata": {},
   "outputs": [
    {
     "name": "stdout",
     "output_type": "stream",
     "text": [
      "2.0\n"
     ]
    },
    {
     "data": {
      "text/plain": [
       "-2.0"
      ]
     },
     "execution_count": 57,
     "metadata": {},
     "output_type": "execute_result"
    }
   ],
   "source": [
    "from math import sin, cos, pi\n",
    "class ComplexMA(Complex):\n",
    "    def __init__(self, magnitude, angle):\n",
    "        self.magnitude = magnitude\n",
    "        self.angle = angle\n",
    "    @property\n",
    "    def real(self):\n",
    "        return self.magnitude * cos(self.angle)\n",
    "    @property\n",
    "    def imag(self):\n",
    "        return self.magnitude * sin(self.angle)\n",
    "    def __repr__(self):\n",
    "        return 'ComplexMA({0:g}, {1:g} * pi)'.format(self.magnitude, self.angle/pi)\n",
    "\n",
    "ma = ComplexMA(2, pi/2)\n",
    "print(ma.imag)\n",
    "ma.angle = pi\n",
    "ma.real"
   ]
  },
  {
   "cell_type": "code",
   "execution_count": 58,
   "id": "f67f1246",
   "metadata": {},
   "outputs": [
    {
     "name": "stdout",
     "output_type": "stream",
     "text": [
      "ComplexRI(1, 4)\n",
      "ComplexMA(1, 1 * pi)\n"
     ]
    }
   ],
   "source": [
    "from math import pi\n",
    "print(ComplexRI(1, 2) + ComplexMA(2, pi/2))\n",
    "print(ComplexRI(0, 1) * ComplexRI(0, 1))"
   ]
  },
  {
   "cell_type": "markdown",
   "id": "93dba2e6",
   "metadata": {},
   "source": [
    "### 2.7.4 Generic Functions\n"
   ]
  },
  {
   "cell_type": "code",
   "execution_count": 59,
   "id": "937c75d1",
   "metadata": {},
   "outputs": [
    {
     "data": {
      "text/plain": [
       "Rational(1, 2)"
      ]
     },
     "execution_count": 59,
     "metadata": {},
     "output_type": "execute_result"
    }
   ],
   "source": [
    "from math import gcd\n",
    "class Rational(Number):\n",
    "    def __init__(self, numer, denom):\n",
    "        g = gcd(numer, denom)\n",
    "        self.numer = numer // g\n",
    "        self.denom = denom // g\n",
    "    def __repr__(self):\n",
    "        return 'Rational({0}, {1})'.format(self.numer, self.denom)\n",
    "    def add(self, other):\n",
    "        nx, dx = self.numer, self.denom\n",
    "        ny, dy = other.numer, other.denom\n",
    "        return Rational(nx * dy + ny * dx, dx * dy)\n",
    "    def mul(self, other):\n",
    "        numer = self.numer * other.numer\n",
    "        denom = self.denom * other.denom\n",
    "        return Rational(numer, denom)\n",
    "\n",
    "Rational(2, 5) + Rational(1, 10)\n"
   ]
  },
  {
   "cell_type": "markdown",
   "id": "4c9d6fc9",
   "metadata": {},
   "source": [
    "#### Type dispatching\n",
    "The built-in function isinstance takes an object and a class. It returns true if the object has a class that either is or inherits from the given class."
   ]
  },
  {
   "cell_type": "code",
   "execution_count": 60,
   "id": "b7f94261",
   "metadata": {},
   "outputs": [
    {
     "name": "stdout",
     "output_type": "stream",
     "text": [
      "True\n",
      "True\n",
      "False\n"
     ]
    }
   ],
   "source": [
    "c = ComplexRI(1, 1)\n",
    "print(isinstance(c, ComplexRI))\n",
    "print(isinstance(c, Complex))\n",
    "print(isinstance(c, ComplexMA))"
   ]
  },
  {
   "cell_type": "code",
   "execution_count": 61,
   "id": "877e9f72",
   "metadata": {},
   "outputs": [
    {
     "name": "stdout",
     "output_type": "stream",
     "text": [
      "False\n",
      "True\n"
     ]
    }
   ],
   "source": [
    "def is_real(c):\n",
    "    \"\"\"Return whether c is a real number with no imainary part.\"\"\"\n",
    "    if isinstance(c, ComplexRI):\n",
    "        return c.imag == 0\n",
    "    elif isinstance(c, ComplexMA):\n",
    "        return c.angle % pi == 0\n",
    "print(is_real(ComplexRI(1, 1)))\n",
    "print(is_real(ComplexMA(2, pi)))"
   ]
  },
  {
   "cell_type": "code",
   "execution_count": 62,
   "id": "ace78665",
   "metadata": {},
   "outputs": [
    {
     "data": {
      "text/plain": [
       "True"
      ]
     },
     "execution_count": 62,
     "metadata": {},
     "output_type": "execute_result"
    }
   ],
   "source": [
    "Rational.type_tag = 'rat'\n",
    "Complex.type_tag = 'com'\n",
    "Rational(2, 5).type_tag == Rational(1, 2).type_tag"
   ]
  },
  {
   "cell_type": "code",
   "execution_count": 63,
   "id": "afe12753",
   "metadata": {},
   "outputs": [],
   "source": [
    "def add_complex_and_rational(c, r):\n",
    "    return ComplexRI(c.real + r.numer/r.denom, c.imag)\n",
    "\n",
    "def mul_complex_and_rational(c, r):\n",
    "    r_magnitude, r_angle = r.numer/r.denom, 0\n",
    "    if r_magnitude < 0:\n",
    "        r_magnitude, r_angle = -r_magnitude, pi\n",
    "    return ComplexMA(c.magnitude * r_magnitude, c.angle + r_angle)\n",
    "\n",
    "def add_rational_and_complex(r, c):\n",
    "    return add_complex_and_rational(c, r)\n",
    "\n",
    "def mul_rational_and_complex(r, c):\n",
    "    return mul_complex_and_rational(c, r)"
   ]
  },
  {
   "cell_type": "markdown",
   "id": "5e66bb2b",
   "metadata": {},
   "source": [
    "The role of type dispatching is to ensure that these cross-type operations are used at appropriate times. Below, we rewrite the Number superclass to use type dispatching for its __add__ and __mul__ methods."
   ]
  },
  {
   "cell_type": "code",
   "execution_count": 64,
   "id": "c04c010c",
   "metadata": {},
   "outputs": [],
   "source": [
    "class Number:\n",
    "    def __add__(self, other):\n",
    "        if self.type_tag == other.type_tag:\n",
    "            return self.add(other)\n",
    "        elif (self.type_tag, other.type_tag) in self.adders:\n",
    "            return self.cross_apply(other, self.adders)\n",
    "    def __mul__(self, other):\n",
    "        if self.type_tag == other.type_tag:\n",
    "            return self.mul(other)\n",
    "        elif (self.type_tag, other.type_tag) in self.multipliers:\n",
    "            return self.cross_apply(other, self.multipliers)\n",
    "    def cross_apply(self, other, cross_fns):\n",
    "        cross_fn = cross_fns[(self.type_tag, other.type_tag)]\n",
    "        return cross_fn(self, other)\n",
    "    adders = {(\"com\", \"rat\"): add_complex_and_rational,\n",
    "              (\"rat\", \"com\"): add_rational_and_complex}\n",
    "    multipliers = {(\"com\", \"rat\"): mul_complex_and_rational,\n",
    "                   (\"rat\", \"com\"): mul_rational_and_complex}"
   ]
  },
  {
   "cell_type": "markdown",
   "id": "68eb8269",
   "metadata": {},
   "source": [
    "#### Coercion"
   ]
  },
  {
   "cell_type": "code",
   "execution_count": 65,
   "id": "7fb220c4",
   "metadata": {},
   "outputs": [],
   "source": [
    "def rational_to_complex(r):\n",
    "    return ComplexRI(r.numer/r.denom, 0)\n",
    "\n",
    "class Number:\n",
    "    def __add__(self, other):\n",
    "        x, y = self.coerce(other)\n",
    "        return x.add(y)\n",
    "    def __mul__(self, other):\n",
    "        x, y = self.coerce(other)\n",
    "        return x.mul(y)\n",
    "    def coerce(self, other):\n",
    "        if self.type_tag == other.type_tag:\n",
    "            return self, other\n",
    "        elif (self.type_tag, other.type_tag) in self.coercions:\n",
    "            return (self.coerce_to(other.type_tag), other)\n",
    "        elif (other.type_tag, self.type_tag) in self.coercions:\n",
    "            return (self, other.coerce_to(self.type_tag))\n",
    "    def coerce_to(self, other_tag):\n",
    "        coercion_fn = self.coercions[(self.type_tag, other_tag)]\n",
    "        return coercion_fn(self)\n",
    "    coercions = {('rat', 'com'): rational_to_complex}"
   ]
  },
  {
   "cell_type": "code",
   "execution_count": 66,
   "id": "a08e4703",
   "metadata": {},
   "outputs": [
    {
     "name": "stdout",
     "output_type": "stream",
     "text": [
      "a bear\n",
      "a bear\n",
      "Bear()\n",
      "this bear\n",
      "oski\n"
     ]
    }
   ],
   "source": [
    "class Bear:\n",
    "    \"\"\"A Bear.\"\"\"\n",
    "    \n",
    "    def __init__(self):\n",
    "        self.__repr__ = lambda: 'oski'\n",
    "        self.__str__ = lambda: 'this bear'\n",
    "        \n",
    "    def __repr__(self):\n",
    "        return 'Bear()'\n",
    "    \n",
    "    def __str__(self):\n",
    "        return 'a bear'\n",
    "    \n",
    "oski = Bear()\n",
    "print(oski)\n",
    "print(str(oski))\n",
    "print(repr(oski))\n",
    "print(oski.__str__())\n",
    "print(oski.__repr__())"
   ]
  },
  {
   "cell_type": "code",
   "execution_count": 67,
   "id": "e19ec05b",
   "metadata": {},
   "outputs": [],
   "source": [
    "def repr(x):\n",
    "    return type(x).__repr__(x)\n",
    "\n",
    "def str(x):\n",
    "    t = type(x)\n",
    "    if hasattr(t, '__str__'):\n",
    "        return t.__str__(x)\n",
    "    else:\n",
    "        return repr(x)"
   ]
  },
  {
   "cell_type": "code",
   "execution_count": 1,
   "id": "1717f6a8",
   "metadata": {},
   "outputs": [],
   "source": [
    "class Ratio:\n",
    "    def __init__(self, n, d):\n",
    "        self.numer = n\n",
    "        self.denom = d\n",
    "    def __repr__(self):\n",
    "        return 'Ratio({0},{1})'.format(self.numer, self.denom)\n",
    "    def __str__(self):\n",
    "        return '{0}/{1}'.format(self.numer, self.denom)\n",
    "    def __add__(self, other):\n",
    "        if isinstance(other, int):\n",
    "            n = self.numer + self.denom * other\n",
    "            d = self.denom\n",
    "        elif isinstance(other, Ratio):\n",
    "            n = self.numer * other.denom + self.denom * other.numer\n",
    "            d = self.denom * other.denom\n",
    "        elif isinstance(other, float):\n",
    "            return float(self) + other\n",
    "        g = gcd(n, d)\n",
    "        return Ratio(n//g, d//g)\n",
    "    \n",
    "    __radd__ = __add__\n",
    "    \n",
    "    def __float__(self):\n",
    "        return self.numer/self.denom\n",
    "    \n",
    "def gcd(n, d):\n",
    "    while n != d:\n",
    "        n, d = min(n, d), abs(n-d)\n",
    "    return n"
   ]
  }
 ],
 "metadata": {
  "kernelspec": {
   "display_name": "Python 3.10.5 64-bit",
   "language": "python",
   "name": "python3"
  },
  "language_info": {
   "codemirror_mode": {
    "name": "ipython",
    "version": 3
   },
   "file_extension": ".py",
   "mimetype": "text/x-python",
   "name": "python",
   "nbconvert_exporter": "python",
   "pygments_lexer": "ipython3",
   "version": "3.10.5"
  },
  "vscode": {
   "interpreter": {
    "hash": "9602f8c35a350c7a70699f60fbe2e61e3e2a9c64108871fc1f9dd823bd15e54f"
   }
  }
 },
 "nbformat": 4,
 "nbformat_minor": 5
}
