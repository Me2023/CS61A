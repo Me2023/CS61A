{
 "cells": [
  {
   "cell_type": "markdown",
   "metadata": {},
   "source": [
    "# Linked List Processing"
   ]
  },
  {
   "cell_type": "code",
   "execution_count": 3,
   "metadata": {},
   "outputs": [],
   "source": [
    "from re import S\n",
    "\n",
    "\n",
    "class Link:\n",
    "    empty = ()\n",
    "    \n",
    "    def __init__(self, first, rest=empty):\n",
    "        assert rest is Link.empty or isinstance(rest, Link)\n",
    "        self.first = first\n",
    "        self.rest = rest\n",
    "        \n",
    "    def __repr__(self):\n",
    "        if self.rest:\n",
    "            rest_repr = ', ' + repr(self.rest)\n",
    "        else:\n",
    "            rest_repr = ''\n",
    "        return 'Link(' + repr(self.first) + rest_repr + ')'\n",
    "    \n",
    "    def __str__(self):\n",
    "        string = '<'\n",
    "        while self.rest is not Link.empty:\n",
    "            string += str(self.first) + ' '\n",
    "            self = self.rest\n",
    "        return string + str(self.first) + '>'\n",
    "\n",
    "def square(x):\n",
    "    return x * x\n",
    "\n",
    "def odd(x):\n",
    "    return x % 2 == 1\n",
    "\n",
    "def range_link(start, end):\n",
    "    \"\"\"Return a Link containing consecutive integers from start to end.\n",
    "    \n",
    "    >>> range_link(3, 6)\n",
    "    Link(3, Link(4, Link(5)))\n",
    "    \"\"\"\n",
    "    if start >= end:\n",
    "        return Link.empty\n",
    "    else:\n",
    "        return Link(start, range_link(start+1, end))\n",
    "\n",
    "def map_link(f, s):\n",
    "    \"\"\"Return a Link that contains f(x) for each x in Link s.\n",
    "    >>> map_link(square, range_link(3, 6))\n",
    "    Link(9, Link(16, Link(25)))\n",
    "    \"\"\"\n",
    "    if s is Link.empty:\n",
    "        return s\n",
    "    else:\n",
    "        return Link(f(s.first), map_link(f, s))\n",
    "    \n",
    "def filter_link(f, s):\n",
    "    \"\"\"Return a Link that contains only the elements x of Link s for which f(x) is a true value.\n",
    "    >>> filter_link(odd, range_link(3, 6))\n",
    "    Link(3, Link(5))\n",
    "    \"\"\"\n",
    "    if s is Link.empty:\n",
    "        return s\n",
    "    \n",
    "    if f(s.first):\n",
    "        return Link(s.first, filter(f, s.rest))\n",
    "    else:\n",
    "        return filter_link(f, s.rest)\n"
   ]
  },
  {
   "cell_type": "markdown",
   "metadata": {},
   "source": [
    "# Linked List Mutation"
   ]
  },
  {
   "cell_type": "code",
   "execution_count": null,
   "metadata": {},
   "outputs": [],
   "source": [
    "def add(s, v):\n",
    "    \"\"\"Add v to an ordered list s with no repeats, returning modified s.\"\"\"\n",
    "    \n",
    "    assert s is not Link.empty\n",
    "    if s.first > v:\n",
    "        s.first, s.rest = v, Link(s.rest)\n",
    "    elif s.first < v and s.rest is Link.empty:\n",
    "        s.rest = Link(v)\n",
    "    elif s.first < v:\n",
    "        add(s.rest, v)\n",
    "    return s"
   ]
  }
 ],
 "metadata": {
  "kernelspec": {
   "display_name": "Python 3.10.5 64-bit",
   "language": "python",
   "name": "python3"
  },
  "language_info": {
   "codemirror_mode": {
    "name": "ipython",
    "version": 3
   },
   "file_extension": ".py",
   "mimetype": "text/x-python",
   "name": "python",
   "nbconvert_exporter": "python",
   "pygments_lexer": "ipython3",
   "version": "3.10.5"
  },
  "orig_nbformat": 4,
  "vscode": {
   "interpreter": {
    "hash": "9602f8c35a350c7a70699f60fbe2e61e3e2a9c64108871fc1f9dd823bd15e54f"
   }
  }
 },
 "nbformat": 4,
 "nbformat_minor": 2
}
