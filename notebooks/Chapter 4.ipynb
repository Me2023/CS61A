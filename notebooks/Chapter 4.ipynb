{
 "cells": [
  {
   "cell_type": "markdown",
   "metadata": {},
   "source": [
    "## 4.2 Implicit Sequences\n",
    "A range represents a consecutive, bounded sequence of integers. However, it is not the case that each element of that sequence is represented explicitly in memory. Instead, when an element is requested from a range, it is computed. Hence, we can represent very large ranges of integers without using large blocks of memory. Only the end points of the range are stored as part of the range object.\n",
    "\n",
    "In computer science, lazy computation describes any program that delays the computation of a value until that value is needed."
   ]
  },
  {
   "cell_type": "markdown",
   "metadata": {},
   "source": [
    "### 4.2.1 Iterators"
   ]
  },
  {
   "cell_type": "code",
   "execution_count": 6,
   "metadata": {},
   "outputs": [
    {
     "name": "stdout",
     "output_type": "stream",
     "text": [
      "<class 'list'>\n",
      "<class 'list_iterator'>\n",
      "2\n",
      "3\n",
      "5\n",
      "No more values\n"
     ]
    }
   ],
   "source": [
    "primes = [2, 3, 5, 7]\n",
    "print(type(primes))\n",
    "iterator = iter(primes)\n",
    "print(type(iterator))\n",
    "print(next(iterator))\n",
    "print(next(iterator))\n",
    "print(next(iterator))\n",
    "next(iterator)\n",
    "\n",
    "try:\n",
    "    next(iterator)\n",
    "except StopIteration:\n",
    "    print('No more values')"
   ]
  },
  {
   "cell_type": "markdown",
   "metadata": {},
   "source": [
    "An iterator maintains local state to represent its position in a sequence. Each time next is called, that position advances. Two separate iterators can track two different positions in the same sequence. However, two names for the same iterator will share a position, because they share the same value.\n",
    "\n",
    "Calling iter on an iterator will return that iterator, not a copy. This behavior is included in Python so that a programmer can call iter on a value to get an iterator without having to worry about whether it is an iterator or a container."
   ]
  },
  {
   "cell_type": "code",
   "execution_count": 7,
   "metadata": {},
   "outputs": [
    {
     "name": "stdout",
     "output_type": "stream",
     "text": [
      "s = 3\n",
      "s = 4\n",
      "t = 3\n",
      "t = 4\n",
      "u = 5\n",
      "u = 6\n",
      "s = 5\n",
      "t = 7\n"
     ]
    }
   ],
   "source": [
    "r = range(3, 13)\n",
    "s = iter(r)\n",
    "print('s =', next(s))\n",
    "print('s =', next(s))\n",
    "\n",
    "t = iter(r)\n",
    "print('t =', next(t))\n",
    "print('t =', next(t))\n",
    "\n",
    "u = t\n",
    "print('u =', next(u))\n",
    "print('u =', next(u))\n",
    "\n",
    "print('s =', next(s))\n",
    "print('t =', next(t))"
   ]
  },
  {
   "cell_type": "markdown",
   "metadata": {},
   "source": [
    "Calling iter on an iterator will return that iterator, not a copy. This behavior is included in Python so that a programmer can call iter on a value to get an iterator without having to worry about whether it is an iterator or a container."
   ]
  },
  {
   "cell_type": "code",
   "execution_count": 8,
   "metadata": {},
   "outputs": [
    {
     "name": "stdout",
     "output_type": "stream",
     "text": [
      "v = 8\n",
      "u = 9\n",
      "t = 10\n"
     ]
    }
   ],
   "source": [
    "v = iter(t)\n",
    "print('v =', next(v))\n",
    "print('u =', next(u))\n",
    "print('t =', next(t))"
   ]
  },
  {
   "cell_type": "markdown",
   "metadata": {},
   "source": [
    "### 4.2.2 Iterables\n",
    "Any value that can produce iterators is called an iterable value. In Python, an iterable value is anything that can be passed to the built-in iter function. Iterables include sequence values such as strings and tuples, as well as other containers such as sets and dictionaries. Iterators are also iterables, because they can be passed to the iter function.\n",
    "\n",
    "Even unordered collections such as dictionaries must define an ordering over their contents when they produce iterators. *Dictionaries and sets are unordered* because the programmer has no control over the order of iteration, but Python does guarantee certain properties about their order in its specification.\n",
    "\n",
    "- If a dictionary changes in structure because a key is added or removed, then all iterators become invalid and future iterators may exhibit arbitrary changes to the order their contents. On the other hand, changing the value of an existing key does not change the order of the contents or invalidate iterators."
   ]
  },
  {
   "cell_type": "code",
   "execution_count": 9,
   "metadata": {},
   "outputs": [
    {
     "name": "stdout",
     "output_type": "stream",
     "text": [
      "{'one': 1, 'two': 2, 'three': 3}\n",
      "next(k) = one\n",
      "next(k) = two\n",
      "next(v) = 1\n",
      "next(v) = 2\n"
     ]
    },
    {
     "ename": "RuntimeError",
     "evalue": "dictionary changed size during iteration",
     "output_type": "error",
     "traceback": [
      "\u001b[1;31m---------------------------------------------------------------------------\u001b[0m",
      "\u001b[1;31mRuntimeError\u001b[0m                              Traceback (most recent call last)",
      "\u001b[1;32mc:\\Users\\12879\\Desktop\\cs61a\\notebooks\\Chapter 4.ipynb Cell 9\u001b[0m in \u001b[0;36m<cell line: 12>\u001b[1;34m()\u001b[0m\n\u001b[0;32m      <a href='vscode-notebook-cell:/c%3A/Users/12879/Desktop/cs61a/notebooks/Chapter%204.ipynb#ch0000008?line=8'>9</a>\u001b[0m \u001b[39mprint\u001b[39m(\u001b[39m'\u001b[39m\u001b[39mnext(v) =\u001b[39m\u001b[39m'\u001b[39m, \u001b[39mnext\u001b[39m(v))\n\u001b[0;32m     <a href='vscode-notebook-cell:/c%3A/Users/12879/Desktop/cs61a/notebooks/Chapter%204.ipynb#ch0000008?line=10'>11</a>\u001b[0m d\u001b[39m.\u001b[39mpop(\u001b[39m'\u001b[39m\u001b[39mthree\u001b[39m\u001b[39m'\u001b[39m)\n\u001b[1;32m---> <a href='vscode-notebook-cell:/c%3A/Users/12879/Desktop/cs61a/notebooks/Chapter%204.ipynb#ch0000008?line=11'>12</a>\u001b[0m \u001b[39mnext\u001b[39;49m(k)\n",
      "\u001b[1;31mRuntimeError\u001b[0m: dictionary changed size during iteration"
     ]
    }
   ],
   "source": [
    "d = {'one': 1, 'two': 2, 'three': 3}\n",
    "print(d)\n",
    "k = iter(d)\n",
    "print('next(k) =', next(k))\n",
    "print('next(k) =', next(k))\n",
    "\n",
    "v = iter(d.values())\n",
    "print('next(v) =', next(v))\n",
    "print('next(v) =', next(v))\n",
    "\n",
    "d.pop('three')\n",
    "next(k)"
   ]
  },
  {
   "cell_type": "markdown",
   "metadata": {},
   "source": [
    "### 4.2.3 Built-in Iterators\n",
    "Several built-in functions take as arguments iterable values and return iterators. These functions are used extensively for *lazy sequence processing*.\n"
   ]
  },
  {
   "cell_type": "code",
   "execution_count": null,
   "metadata": {},
   "outputs": [
    {
     "name": "stdout",
     "output_type": "stream",
     "text": [
      "*** 3 => 6 ***\n",
      "*** 4 => 8 ***\n",
      "*** 5 => 10 ***\n",
      "*** 6 => 12 ***\n"
     ]
    },
    {
     "data": {
      "text/plain": [
       "[10, 12]"
      ]
     },
     "execution_count": 21,
     "metadata": {},
     "output_type": "execute_result"
    }
   ],
   "source": [
    "def double_and_print(x):\n",
    "    print('***', x, '=>', 2*x, '***')\n",
    "    return 2*x\n",
    "s = range(3, 7)\n",
    "doubled = map(double_and_print, s)\n",
    "next(doubled)\n",
    "next(doubled)\n",
    "list(doubled)\n",
    "\n",
    "#filter, zip, reversed"
   ]
  },
  {
   "cell_type": "markdown",
   "metadata": {},
   "source": [
    "### 4.2.4 For Statements\n",
    "The for statement in Python operates on iterators. Objects are iterable (an interface) if they have an `__iter__` method that returns an iterator. Iterable objects can be the value of the `<expression>` in the header of a for statement:\n",
    "\n",
    "```\n",
    "for <name> in <expression>:\n",
    "    <suite>\n",
    "```\n",
    "\n",
    "To execute a for statement, Python evaluates the header `<expression>`, which must yield an iterable value. Then, the `__iter__` method is invoked on that value. Until a StopIteration exception is raised, Python repeatedly invokes the `__next__` method on that iterator and binds the result to the `<name>` in the `for` statement. Then, it executes the `<suite>`."
   ]
  },
  {
   "cell_type": "code",
   "execution_count": null,
   "metadata": {},
   "outputs": [
    {
     "name": "stdout",
     "output_type": "stream",
     "text": [
      "1\n",
      "2\n",
      "3\n",
      "1\n",
      "2\n",
      "3\n"
     ]
    }
   ],
   "source": [
    "counts = [1, 2, 3]\n",
    "for item in counts:\n",
    "    print(item)\n",
    "\n",
    "\n",
    "items = counts.__iter__()\n",
    "try:\n",
    "    while True:\n",
    "        item = items.__next__()\n",
    "        print(item)\n",
    "except StopIteration:\n",
    "    pass\n"
   ]
  },
  {
   "cell_type": "markdown",
   "metadata": {},
   "source": [
    "### 4.2.5 Generators and Yield Statements\n",
    "A generator is an iterator returned by a special class of function called a generator function. Generator functions are distinguished from regular functions in that rather than containing return statements in their body, they use yield statement to return elements of a series."
   ]
  },
  {
   "cell_type": "code",
   "execution_count": null,
   "metadata": {},
   "outputs": [
    {
     "name": "stdout",
     "output_type": "stream",
     "text": [
      "a\n",
      "b\n",
      "c\n",
      "d\n"
     ]
    }
   ],
   "source": [
    "def letters_generator():\n",
    "    current = 'a'\n",
    "    while current <= 'd':\n",
    "        yield current\n",
    "        current = chr(ord(current)+1)\n",
    "        \n",
    "for letter in letters_generator():\n",
    "    print(letter)"
   ]
  },
  {
   "cell_type": "code",
   "execution_count": null,
   "metadata": {},
   "outputs": [
    {
     "name": "stdout",
     "output_type": "stream",
     "text": [
      "<class 'generator'>\n",
      "a\n",
      "b\n",
      "c\n",
      "d\n"
     ]
    },
    {
     "ename": "StopIteration",
     "evalue": "",
     "output_type": "error",
     "traceback": [
      "\u001b[1;31m---------------------------------------------------------------------------\u001b[0m",
      "\u001b[1;31mStopIteration\u001b[0m                             Traceback (most recent call last)",
      "\u001b[1;32mc:\\Users\\12879\\Desktop\\cs61a\\notebooks\\Chapter 4.ipynb Cell 16\u001b[0m in \u001b[0;36m<cell line: 7>\u001b[1;34m()\u001b[0m\n\u001b[0;32m      <a href='vscode-notebook-cell:/c%3A/Users/12879/Desktop/cs61a/notebooks/Chapter%204.ipynb#ch0000015?line=4'>5</a>\u001b[0m \u001b[39mprint\u001b[39m(letters\u001b[39m.\u001b[39m\u001b[39m__next__\u001b[39m())\n\u001b[0;32m      <a href='vscode-notebook-cell:/c%3A/Users/12879/Desktop/cs61a/notebooks/Chapter%204.ipynb#ch0000015?line=5'>6</a>\u001b[0m \u001b[39mprint\u001b[39m(letters\u001b[39m.\u001b[39m\u001b[39m__next__\u001b[39m())\n\u001b[1;32m----> <a href='vscode-notebook-cell:/c%3A/Users/12879/Desktop/cs61a/notebooks/Chapter%204.ipynb#ch0000015?line=6'>7</a>\u001b[0m letters\u001b[39m.\u001b[39;49m\u001b[39m__next__\u001b[39;49m()\n",
      "\u001b[1;31mStopIteration\u001b[0m: "
     ]
    }
   ],
   "source": [
    "letters = letters_generator()\n",
    "print(type(letters))\n",
    "print(letters.__next__())\n",
    "print(letters.__next__())\n",
    "print(letters.__next__())\n",
    "print(letters.__next__())\n",
    "letters.__next__()"
   ]
  },
  {
   "cell_type": "markdown",
   "metadata": {},
   "source": [
    "### 4.2.6 Iterable Interface\n",
    "An object is iterable if it returns an iterator when its `__iter__` method is invoked."
   ]
  },
  {
   "cell_type": "code",
   "execution_count": 12,
   "metadata": {},
   "outputs": [
    {
     "name": "stdout",
     "output_type": "stream",
     "text": [
      "b\n"
     ]
    }
   ],
   "source": [
    "class Letters:\n",
    "    def __init__(self, start='a', end='e'):\n",
    "        self.start = start\n",
    "        self.end = end\n",
    "    def __iter__(self):\n",
    "        return LetterIter(self.start, self.end)\n",
    "\n",
    "b_to_k = Letters('b', 'k')\n",
    "first_iterator = b_to_k.__iter__()\n",
    "print(next(first_iterator))"
   ]
  },
  {
   "cell_type": "markdown",
   "metadata": {},
   "source": [
    "### 4.2.7 Creating Iterables with Yield\n"
   ]
  },
  {
   "cell_type": "code",
   "execution_count": 13,
   "metadata": {},
   "outputs": [
    {
     "data": {
      "text/plain": [
       "[(1, 1), (1, 2), (1, 3), (2, 1), (2, 2), (2, 3), (3, 1), (3, 2), (3, 3)]"
      ]
     },
     "execution_count": 13,
     "metadata": {},
     "output_type": "execute_result"
    }
   ],
   "source": [
    "from tracemalloc import start # ???\n",
    "\n",
    "\n",
    "def all_pairs(s):\n",
    "    for item1 in s:\n",
    "        for item2 in s:\n",
    "            yield (item1, item2)\n",
    "list(all_pairs([1, 2, 3]))\n"
   ]
  },
  {
   "cell_type": "markdown",
   "metadata": {},
   "source": [
    "Sequences are not themselves iterators, but instead iterable objects. \n",
    "\n",
    "The iterable interface in Python consists of a single message, `__iter__`, that returns an iterator.\n",
    "\n",
    "The built-in sequence types in Python return new instances of iterators when their `__iter__` methods are invoked. If an iterable object returns a fresh instance of an iterator each time `__iter__` is called, then it can be iterated over multiple times."
   ]
  },
  {
   "cell_type": "code",
   "execution_count": 14,
   "metadata": {},
   "outputs": [
    {
     "data": {
      "text/plain": [
       "[('a', 'a'), ('a', 'b'), ('a', 'c'), ('a', 'd'), ('b', 'a')]"
      ]
     },
     "execution_count": 14,
     "metadata": {},
     "output_type": "execute_result"
    }
   ],
   "source": [
    "class LettersWithYield:\n",
    "    def __init__(self, start='a', end='e'):\n",
    "        self.start = start\n",
    "        self.end = end\n",
    "    def __iter__(self):\n",
    "        next_letter = self.start\n",
    "        while next_letter < self.end:\n",
    "            yield next_letter\n",
    "            next_letter = chr(ord(next_letter)+1)\n",
    "            \n",
    "letters = LettersWithYield()\n",
    "list(all_pairs(letters))[:5]\n"
   ]
  },
  {
   "cell_type": "markdown",
   "metadata": {},
   "source": [
    "### 4.2.8 Iterator Interface"
   ]
  },
  {
   "cell_type": "code",
   "execution_count": 16,
   "metadata": {},
   "outputs": [
    {
     "name": "stdout",
     "output_type": "stream",
     "text": [
      "a\n",
      "b\n",
      "c\n",
      "d\n"
     ]
    }
   ],
   "source": [
    "class LetterIter:\n",
    "    \"\"\"An iterator over letters of the alphabet in ASCII order.\"\"\"\n",
    "    def __init__(self, start='a', end='e'):\n",
    "        self.next_letter = start\n",
    "        self.end = end\n",
    "    def __next__(self):\n",
    "        if self.next_letter == self.end:\n",
    "            raise StopIteration # StopIteration\n",
    "        letter = self.next_letter\n",
    "        self.next_letter = chr(ord(letter)+1)\n",
    "        return letter\n",
    "\n",
    "letter_iter = LetterIter()\n",
    "print(letter_iter.__next__())\n",
    "print(letter_iter.__next__())\n",
    "print(next(letter_iter))\n",
    "print(letter_iter.__next__())\n"
   ]
  },
  {
   "cell_type": "markdown",
   "metadata": {},
   "source": [
    "Iterators also allow us to represent infinite series by implementing a `__next__` method that never raises a StopIteration exception."
   ]
  },
  {
   "cell_type": "code",
   "execution_count": 17,
   "metadata": {},
   "outputs": [
    {
     "data": {
      "text/plain": [
       "1"
      ]
     },
     "execution_count": 17,
     "metadata": {},
     "output_type": "execute_result"
    }
   ],
   "source": [
    "\n",
    "class Positives:\n",
    "    def __init__(self):\n",
    "        self.next_positive = 1\n",
    "    def __next__(self):\n",
    "        result = self.next_positive\n",
    "        self.next_positive += 1\n",
    "        return result\n",
    "\n",
    "p = Positives()\n",
    "next(p)"
   ]
  },
  {
   "cell_type": "markdown",
   "metadata": {},
   "source": [
    "## Generators & Iterators\n",
    "### Generators can Yield from Iterators\n",
    "A `yield from` statement yields all values from an iterator or iterable."
   ]
  },
  {
   "cell_type": "code",
   "execution_count": 2,
   "metadata": {},
   "outputs": [
    {
     "name": "stdout",
     "output_type": "stream",
     "text": [
      "3\n",
      "2\n",
      "1\n",
      "Blast off\n"
     ]
    }
   ],
   "source": [
    "def a_then_b(a, b):\n",
    "    for x in a:\n",
    "        yield x\n",
    "    for x in b:\n",
    "        yield x\n",
    "        \n",
    "\n",
    "def a_then_b(a, b):\n",
    "    yield from a\n",
    "    yield from b\n",
    "    \n",
    "def countdown(k):\n",
    "    '''\n",
    "    >>> t = countdown(3)\n",
    "    >>> next(t)\n",
    "    3\n",
    "    >>> next(t)\n",
    "    <generator object coutdown>\n",
    "    '''\n",
    "    if k > 0:\n",
    "        yield k\n",
    "        yield countdown(k-1)\n",
    "\n",
    "def countdown(k):\n",
    "    if k > 0:\n",
    "        yield k\n",
    "        for x in countdown(k-1):\n",
    "            yield x\n",
    "\n",
    "def countdown(k):\n",
    "    if k > 0:\n",
    "        yield k\n",
    "        yield from countdown(k-1)\n",
    "    else:\n",
    "        yield 'Blast off'\n",
    "    \n",
    "for k in countdown(3):\n",
    "    print(k)"
   ]
  },
  {
   "cell_type": "markdown",
   "metadata": {},
   "source": [
    "## Generator Functions with Return Statements\n",
    "### A Return Statements Within a Generator Function\n",
    "Upon eecuting a return statement, a generator function exits and cannot yield more values."
   ]
  },
  {
   "cell_type": "code",
   "execution_count": 3,
   "metadata": {},
   "outputs": [
    {
     "name": "stdout",
     "output_type": "stream",
     "text": [
      "[2, 3]\n",
      "[2, 3, 4]\n"
     ]
    }
   ],
   "source": [
    "from tkinter import Y\n",
    "\n",
    "\n",
    "def g(x):\n",
    "    yield x\n",
    "    yield x + 1\n",
    "    return x + 2\n",
    "    yield x + 3\n",
    "print(list(g(2)))\n",
    "\n",
    "def h(x):\n",
    "    y = yield from g(x)\n",
    "    yield y\n",
    "    \n",
    "print(list(h(2)))"
   ]
  }
 ],
 "metadata": {
  "kernelspec": {
   "display_name": "Python 3.10.5 64-bit",
   "language": "python",
   "name": "python3"
  },
  "language_info": {
   "codemirror_mode": {
    "name": "ipython",
    "version": 3
   },
   "file_extension": ".py",
   "mimetype": "text/x-python",
   "name": "python",
   "nbconvert_exporter": "python",
   "pygments_lexer": "ipython3",
   "version": "3.10.5"
  },
  "orig_nbformat": 4,
  "vscode": {
   "interpreter": {
    "hash": "9602f8c35a350c7a70699f60fbe2e61e3e2a9c64108871fc1f9dd823bd15e54f"
   }
  }
 },
 "nbformat": 4,
 "nbformat_minor": 2
}
