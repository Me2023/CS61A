{
 "cells": [
  {
   "cell_type": "markdown",
   "id": "23926ebd",
   "metadata": {},
   "source": [
    "## 2.3 Sequences\n",
    "A sequence is *an ordered collection of values*. The sequence is a powerful, fundamental abstraction in computer science. Sequences are not instances of a particular built-in type or abstract data representation, but instead a collection of behaviors that are shared among several different types of data. That is, there are many kinds of sequences, but they all share common behavior. In particular,\n",
    "\n",
    "**Length**. A sequence has a finite length. An empty sequence has length 0.\n",
    "\n",
    "**Element selection**. A sequence has an element corresponding to any non-negative integer index less than its length, starting at 0 for the first element.\n",
    "\n",
    "Python includes several native data types that are sequences, the most important of which is the list."
   ]
  },
  {
   "cell_type": "markdown",
   "id": "db97c9e0",
   "metadata": {},
   "source": [
    "### 2.3.1 Lists"
   ]
  },
  {
   "cell_type": "code",
   "execution_count": 2,
   "id": "8dcaa9db",
   "metadata": {},
   "outputs": [
    {
     "name": "stdout",
     "output_type": "stream",
     "text": [
      "4\n",
      "8\n",
      "[2, 7, 1, 8, 2, 8, 1, 8, 2, 8]\n",
      "[30, 40]\n"
     ]
    }
   ],
   "source": [
    "digits = [1, 8, 2, 8]\n",
    "print(len(digits))\n",
    "print(digits[3])\n",
    "\n",
    "print([2, 7] + digits * 2)\n",
    "\n",
    "pairs = [[10, 20], [30, 40]]\n",
    "print(pairs[1])"
   ]
  },
  {
   "cell_type": "markdown",
   "id": "9140caf0",
   "metadata": {},
   "source": [
    "### 2.3.2 Sequence Iteration\n",
    "In many cases, we would like to iterate over the elements of a sequence and perform some computation for each element in turn. This pattern is so common that Python has an additional control statement to process sequential data: the for statement."
   ]
  },
  {
   "cell_type": "code",
   "execution_count": 3,
   "id": "d3537083",
   "metadata": {},
   "outputs": [],
   "source": [
    "def count(s, value):\n",
    "    \"\"\"Count the number of occurrences of value in sequence s.\"\"\"\n",
    "    total, index = 0, 0\n",
    "    while index < len(s):\n",
    "        if s[index] == value:\n",
    "            total = total + 1\n",
    "        index = index + 1\n",
    "    return total\n",
    "\n",
    "def count(s, value):\n",
    "    \"\"\"Count the number of occurrences of value in sequence s.\"\"\"\n",
    "    total = 0\n",
    "    for elem in s:\n",
    "        if elem == value:\n",
    "            total = total + 1\n",
    "    return total\n"
   ]
  },
  {
   "cell_type": "markdown",
   "id": "4f400135",
   "metadata": {},
   "source": [
    "**Sequence unpacking**. A common pattern in programs is to have a sequence of elements that are themselves sequences, but all of a fixed length. A for statement may include multiple names in its header to \"unpack\" each element sequence into its respective elements. For example, we may have a list of two-element lists."
   ]
  },
  {
   "cell_type": "code",
   "execution_count": 4,
   "id": "447d1061",
   "metadata": {},
   "outputs": [
    {
     "data": {
      "text/plain": [
       "2"
      ]
     },
     "execution_count": 4,
     "metadata": {},
     "output_type": "execute_result"
    }
   ],
   "source": [
    "pairs = [[1, 2], [2, 2], [2, 3], [4, 4]]\n",
    "same_count = 0\n",
    "for x, y in pairs:\n",
    "    if x == y:\n",
    "        same_count = same_count + 1\n",
    "same_count"
   ]
  },
  {
   "cell_type": "markdown",
   "id": "fca49852",
   "metadata": {},
   "source": [
    "This pattern of binding multiple names to multiple values in a fixed-length sequence is called sequence unpacking; it is the same pattern that we see in assignment statements that bind multiple names to multiple values."
   ]
  },
  {
   "cell_type": "code",
   "execution_count": 5,
   "id": "d22d4784",
   "metadata": {},
   "outputs": [
    {
     "name": "stdout",
     "output_type": "stream",
     "text": [
      "[5, 6, 7]\n",
      "[0, 1, 2, 3]\n",
      "Go Bears!\n",
      "Go Bears!\n",
      "Go Bears!\n"
     ]
    },
    {
     "data": {
      "text/plain": [
       "'A common convention is to use a single underscore character for the name \\nin the for header if the name is unused in the suite. '"
      ]
     },
     "execution_count": 5,
     "metadata": {},
     "output_type": "execute_result"
    }
   ],
   "source": [
    "range(1, 10)       #A range is another built-in type of sequence in Python\n",
    "print(list(range(5, 8)))\n",
    "print(list(range(4)))\n",
    "\n",
    "for _ in range(3):\n",
    "    print('Go Bears!')\n",
    "    \n",
    "\"\"\"A common convention is to use a single underscore character for the name \n",
    "in the for header if the name is unused in the suite. \"\"\""
   ]
  },
  {
   "cell_type": "markdown",
   "id": "a6a7fb07",
   "metadata": {},
   "source": [
    "### 2.3.3 Sequence Processing"
   ]
  },
  {
   "cell_type": "code",
   "execution_count": 6,
   "id": "22193fd4",
   "metadata": {},
   "outputs": [
    {
     "name": "stdout",
     "output_type": "stream",
     "text": [
      "[2, 4, 6, 8, 10]\n",
      "[1, 5]\n"
     ]
    }
   ],
   "source": [
    "# List Comprehensions\n",
    "odds = [1, 3, 5, 7, 9]\n",
    "print([x+1 for x in odds])\n",
    "print([x for x in odds if 25 % x == 0])\n",
    "# [<map expression> for <name> in <sequence expression> if <filter expression>]"
   ]
  },
  {
   "cell_type": "code",
   "execution_count": 7,
   "id": "b96355e9",
   "metadata": {},
   "outputs": [
    {
     "data": {
      "text/plain": [
       "[4, 6, 8, 8, 12, 10, 16, 12, 12]"
      ]
     },
     "execution_count": 7,
     "metadata": {},
     "output_type": "execute_result"
    }
   ],
   "source": [
    "# Aggregation\n",
    "\n",
    "## A perfect number is a positive integer that is equal to the sum of its divisors.\n",
    "def divisors(n):\n",
    "    return [1] + [x for x in range(2, n) if n % x == 0]\n",
    "\n",
    "[n for n in range(1, 1000) if sum(divisors(n)) == n]\n",
    "\n",
    "## finding the minimum perimeter of a rectangle with integer side lengths, given its area\n",
    "def width(area, height):\n",
    "    assert area % height == 0\n",
    "    return area // height\n",
    "\n",
    "def perimeter(width, height):\n",
    "    return 2 * width + 2 * height\n",
    "\n",
    "def minimum_perimeter(area):\n",
    "    heights = divisors(area)\n",
    "    perimeters = [perimeter(width(area, h),h) for h in heights]\n",
    "    return min(perimeters)\n",
    "    \n",
    "[minimum_perimeter(n) for n in range(1, 10)]"
   ]
  },
  {
   "cell_type": "code",
   "execution_count": 8,
   "id": "8d516265",
   "metadata": {},
   "outputs": [
    {
     "name": "stdout",
     "output_type": "stream",
     "text": [
      "64\n",
      "[1, 2, 3, 4, 6]\n"
     ]
    },
    {
     "data": {
      "text/plain": [
       "[1, 6, 28, 496]"
      ]
     },
     "execution_count": 8,
     "metadata": {},
     "output_type": "execute_result"
    }
   ],
   "source": [
    "# Higher-Order Functions\n",
    "def apply_to_all(maps_fn, s):\n",
    "    return [map_fn(x) for x in s]\n",
    "\n",
    "def keep_if(filter_fn, s):\n",
    "    return [x for x in s if filter_fn(x)]\n",
    "\n",
    "## Finally, many forms of aggregation can be expressed as repeatedly applying \n",
    "## a two-argument function to the reduced value so far and each element in turn.\n",
    "def reduce(reduce_fn, s, initial):\n",
    "    reduced = initial\n",
    "    for x in s:\n",
    "        reduced = reduce_fn(reduced, x)\n",
    "    return reduced\n",
    "\n",
    "from operator import mul\n",
    "print(reduce(mul, [2, 4, 8], 1))\n",
    "\n",
    "### perfect numbers\n",
    "def divisors_of(n):\n",
    "    divides_n = lambda x: n % x == 0\n",
    "    return [1] + keep_if(divides_n, range(2, n))\n",
    "\n",
    "print(divisors_of(12))\n",
    "\n",
    "from operator import add\n",
    "def sum_of_divisors(n):\n",
    "    return reduce(add, divisors_of(n), 0)\n",
    "\n",
    "def perfect(n):\n",
    "    return sum_of_divisors(n) == n\n",
    "\n",
    "keep_if(perfect, range(1, 1000))\n",
    "\n"
   ]
  },
  {
   "cell_type": "markdown",
   "id": "07a51d76",
   "metadata": {},
   "source": [
    "#### Conventional Names\n",
    "In the computer science community, the more common name for apply_to_all is map and the more common name for keep_if is filter. In Python, the built-in map and filter are generalizations of these functions that *do not return lists*. These functions are discussed in Chapter 4. The definitions above are equivalent to applying the list constructor to the result of built-in map and filter calls."
   ]
  },
  {
   "cell_type": "code",
   "execution_count": 9,
   "id": "c89a89b7",
   "metadata": {},
   "outputs": [],
   "source": [
    "apply_to_all = lambda map_fn, s: list(map(map_fn, s))\n",
    "keep_if = lambda filter_fn, s: list(filter(filter_fn, s))"
   ]
  },
  {
   "cell_type": "markdown",
   "id": "bdd95aca",
   "metadata": {},
   "source": [
    "The reduce function is built into the functools module of the Python standard library. In this version, the initial argument is optional."
   ]
  },
  {
   "cell_type": "code",
   "execution_count": 10,
   "id": "93d74e61",
   "metadata": {},
   "outputs": [
    {
     "data": {
      "text/plain": [
       "120"
      ]
     },
     "execution_count": 10,
     "metadata": {},
     "output_type": "execute_result"
    }
   ],
   "source": [
    "from functools import reduce\n",
    "from operator import mul\n",
    "def product(s):\n",
    "    return reduce(mul, s)\n",
    "product([1, 2, 3, 4, 5])"
   ]
  },
  {
   "cell_type": "markdown",
   "id": "9a2c7797",
   "metadata": {},
   "source": [
    "### 2.3.4 Sequence Abstraction\n",
    "We have introduced two native data types that satisfy the sequence abstraction: **lists and ranges**.\n",
    "\n",
    "Both satisfy the conditions with which we began this section: length and element selection. \n"
   ]
  },
  {
   "cell_type": "markdown",
   "id": "05b5825f",
   "metadata": {},
   "source": [
    "#### Membership"
   ]
  },
  {
   "cell_type": "code",
   "execution_count": 11,
   "id": "75c271c6",
   "metadata": {},
   "outputs": [
    {
     "data": {
      "text/plain": [
       "True"
      ]
     },
     "execution_count": 11,
     "metadata": {},
     "output_type": "execute_result"
    }
   ],
   "source": [
    "2 in digits\n",
    "\n",
    "1828 not in digits"
   ]
  },
  {
   "cell_type": "markdown",
   "id": "8b065a2f",
   "metadata": {},
   "source": [
    "#### Slicing\n",
    "In Python, sequence slicing is expressed similarly to element selection, using square brackets. A colon separates the starting and ending indices."
   ]
  },
  {
   "cell_type": "code",
   "execution_count": 12,
   "id": "13927b50",
   "metadata": {},
   "outputs": [
    {
     "data": {
      "text/plain": [
       "[8, 2, 8]"
      ]
     },
     "execution_count": 12,
     "metadata": {},
     "output_type": "execute_result"
    }
   ],
   "source": [
    "digits[0:2]\n",
    "\n",
    "digits[1:]"
   ]
  },
  {
   "cell_type": "markdown",
   "id": "e0df056e",
   "metadata": {},
   "source": [
    "### 2.3.5 Strings"
   ]
  },
  {
   "cell_type": "code",
   "execution_count": 13,
   "id": "cafe4b40",
   "metadata": {},
   "outputs": [
    {
     "data": {
      "text/plain": [
       "'您好'"
      ]
     },
     "execution_count": 13,
     "metadata": {},
     "output_type": "execute_result"
    }
   ],
   "source": [
    "'I am string!'\n",
    "\n",
    "\"I've got an apostrophe\"\n",
    "\n",
    "'您好'"
   ]
  },
  {
   "cell_type": "code",
   "execution_count": 14,
   "id": "51fd4cac",
   "metadata": {},
   "outputs": [
    {
     "name": "stdout",
     "output_type": "stream",
     "text": [
      "8\n",
      "k\n",
      "Berkeley, CA\n",
      "ShabuShabu\n",
      "True\n",
      "2 is an element of [1, 8, 2, 8]\n"
     ]
    }
   ],
   "source": [
    "city = 'Berkeley'\n",
    "print(len(city))\n",
    "print(city[3])\n",
    "\n",
    "print('Berkeley' + ', CA')\n",
    "print('Shabu' * 2)\n",
    "\n",
    "# Membership\n",
    "print('here' in \"Where's Waldo?\")\n",
    "\n",
    "# Multiline Literals: Triple quotes delimit string literals that span \n",
    "# multiple lines. We have used this triple quoting extensively already for docstrings.\n",
    "\"\"\"The Zen of Python\n",
    "claims, Readability counts.\n",
    "Read more: import this.\"\"\"\n",
    "\n",
    "# String Coercion\n",
    "print( str(2) + ' is an element of ' + str(digits))"
   ]
  },
  {
   "cell_type": "markdown",
   "id": "19d5ccc9",
   "metadata": {},
   "source": [
    "### 2.3.6 Trees\n",
    "Our ability to use lists as the elements of other lists provides a new means of combination in our programming language."
   ]
  },
  {
   "cell_type": "code",
   "execution_count": 15,
   "id": "ea36bb7c",
   "metadata": {},
   "outputs": [],
   "source": [
    "one_two = [1, 2]\n",
    "nested = [[1, 2], [],\n",
    "[[3, False, None],\n",
    "[4, lambda: 5]]]"
   ]
  },
  {
   "cell_type": "markdown",
   "id": "388e26aa",
   "metadata": {},
   "source": [
    "A tree has a root label and a sequence of branches. Each branch of a tree is a tree. A tree with no branches is called a leaf. Any tree contained within a tree is called a sub-tree of that tree (such as a branch of a branch). The root of each sub-tree of a tree is called a node in that tree.\n",
    "\n",
    "The data abstraction for a tree consists of the constructor tree and the selectors label and branches. We begin with a simplified version."
   ]
  },
  {
   "cell_type": "code",
   "execution_count": 16,
   "id": "796cd9f3",
   "metadata": {},
   "outputs": [],
   "source": [
    "def tree(root_label, branches=[]):\n",
    "    for branch in branches:\n",
    "        assert is_tree(branch), 'branches must be trees'\n",
    "    return [root_label] + list(branches)\n",
    "\n",
    "def label(tree):\n",
    "    return tree[0]\n",
    "\n",
    "def branches(tree):\n",
    "    return tree[1:]\n",
    "\n",
    "def is_tree(tree):\n",
    "    if type(tree) != list or len(tree) < 1:\n",
    "        return False\n",
    "    for branch in branches(tree):\n",
    "        if not is_tree(branch):  #\n",
    "            return False\n",
    "    return True\n",
    "\n",
    "def is_leaf(tree):\n",
    "    return not branches(tree)  # not [] -> True"
   ]
  },
  {
   "cell_type": "code",
   "execution_count": 17,
   "id": "2a19b10c",
   "metadata": {},
   "outputs": [
    {
     "name": "stdout",
     "output_type": "stream",
     "text": [
      "[3, [1], [2, [1], [1]]]\n",
      "3\n",
      "[[1], [2, [1], [1]]]\n",
      "[2, [1], [1]]\n",
      "False\n",
      "True\n"
     ]
    }
   ],
   "source": [
    "t = tree(3, [tree(1),tree(2,[tree(1), tree(1)])])\n",
    "print(t)\n",
    "\n",
    "print(label(t))\n",
    "\n",
    "print(branches(t))\n",
    "\n",
    "print(branches(t)[1])\n",
    "\n",
    "print(is_leaf(t))\n",
    "\n",
    "print(is_leaf(branches(t)[0]))"
   ]
  },
  {
   "cell_type": "code",
   "execution_count": 18,
   "id": "cfde10cb",
   "metadata": {},
   "outputs": [
    {
     "name": "stdout",
     "output_type": "stream",
     "text": [
      "[1, [0], [1]]\n",
      "[2, [1], [1, [0], [1]]]\n"
     ]
    }
   ],
   "source": [
    "def fib_tree(n):\n",
    "    if n == 0 or n == 1:\n",
    "        return tree(n)\n",
    "    else:\n",
    "        left, right = fib_tree(n-2), fib_tree(n-1)\n",
    "        fib_n = label(left) + label(right)\n",
    "        return tree(fib_n, [left, right])\n",
    "\n",
    "print(fib_tree(2))\n",
    "\n",
    "print(fib_tree(3))"
   ]
  },
  {
   "cell_type": "code",
   "execution_count": 19,
   "id": "3c337c49",
   "metadata": {},
   "outputs": [
    {
     "data": {
      "text/plain": [
       "3"
      ]
     },
     "execution_count": 19,
     "metadata": {},
     "output_type": "execute_result"
    }
   ],
   "source": [
    "def count_leaves(tree):\n",
    "    if is_leaf(tree):\n",
    "        return 1\n",
    "    else:\n",
    "        branch_counts = [count_leaves(b) for b in branches(tree)]\n",
    "        return sum(branch_counts)\n",
    "    \n",
    "count_leaves(fib_tree(3))"
   ]
  },
  {
   "cell_type": "markdown",
   "id": "6a0e0a7b",
   "metadata": {},
   "source": [
    "#### Partition trees"
   ]
  },
  {
   "cell_type": "code",
   "execution_count": 20,
   "id": "ada5dd0c",
   "metadata": {},
   "outputs": [
    {
     "name": "stdout",
     "output_type": "stream",
     "text": [
      "[2, [True], [1, [1, [True], [False]], [False]]]\n",
      "2\n",
      "1 + 1\n",
      "4 + 2\n",
      "4 + 1 + 1\n",
      "3 + 3\n",
      "3 + 2 + 1\n",
      "3 + 1 + 1 + 1\n",
      "2 + 2 + 2\n",
      "2 + 2 + 1 + 1\n",
      "2 + 1 + 1 + 1 + 1\n",
      "1 + 1 + 1 + 1 + 1 + 1\n"
     ]
    }
   ],
   "source": [
    "def partition_tree(n, m):\n",
    "    \"\"\"Return a partition tree of n using parts of up to m.\"\"\"\n",
    "    if n == 0:\n",
    "        return tree(True)\n",
    "    elif n < 0 or m == 0:\n",
    "        return tree(False)\n",
    "    else:\n",
    "        left = partition_tree(n-m, m)\n",
    "        right = partition_tree(n, m-1)\n",
    "        return tree(m, [left, right])\n",
    "\n",
    "print(partition_tree(2, 2))\n",
    "\n",
    "def print_parts(tree, partition=[]):\n",
    "    if is_leaf(tree):\n",
    "        if label(tree):\n",
    "            print(' + '.join(partition))\n",
    "    else:\n",
    "        left, right = branches(tree)\n",
    "        m = str(label(tree))\n",
    "        print_parts(left, partition + [m])\n",
    "        print_parts(right, partition)\n",
    "            \n",
    "print_parts(partition_tree(2, 2))     \n",
    "\n",
    "print_parts(partition_tree(6, 4))"
   ]
  },
  {
   "cell_type": "code",
   "execution_count": 21,
   "id": "d096480e",
   "metadata": {},
   "outputs": [],
   "source": [
    "# Slicing\n",
    "def right_binarize(tree):\n",
    "    \"\"\"Construct a right-branching binary tree.\"\"\"\n",
    "    if is_leaf(tree):\n",
    "        return tree\n",
    "    if len(tree) > 2:\n",
    "        tree = [tree[0], tree[1:]]\n",
    "    return [right_binarize(b) for b in tree]\n",
    "\n",
    "# right_binarize([1, 2, 3, 4, 5, 6, 7]) 不能运行，int不能[]"
   ]
  },
  {
   "cell_type": "markdown",
   "id": "052181e6",
   "metadata": {},
   "source": [
    "### 2.3.7 Linked Lists\n",
    "So far, we have used only native types to represent sequences. However, we can also develop sequence representations that are not built into Python. A common representation of a sequence constructed from nested pairs is called a linked list.\n",
    "\n",
    "A linked list is a pair containing the first element of the sequence (in this case 1) and the rest of the sequence (in this case a representation of 2, 3, 4). The second element is also a linked list. The rest of the inner-most linked list containing only 4 is 'empty', a value that represents an empty linked list."
   ]
  },
  {
   "cell_type": "code",
   "execution_count": 22,
   "id": "35e77bc4",
   "metadata": {},
   "outputs": [],
   "source": [
    "four = [1, [2, [3, [4, 'empty']]]]"
   ]
  },
  {
   "cell_type": "markdown",
   "id": "bcda428c",
   "metadata": {},
   "source": [
    "Linked lists have recursive structure: the rest of a linked list is a linked list or 'empty'. We can define an abstract data representation to validate, construct, and select the components of linked lists."
   ]
  },
  {
   "cell_type": "code",
   "execution_count": 23,
   "id": "35a6a835",
   "metadata": {},
   "outputs": [],
   "source": [
    "empty = 'empty'\n",
    "\n",
    "def is_link(s):\n",
    "    \"\"\"s is linked list if it is empty or a (first, rest) pair.\"\"\"\n",
    "    return s == empty or (len(s) == 2 and is_link(s[1]))\n",
    "\n",
    "def link(first, rest):\n",
    "    \"\"\"Construct a linked list from its first element and the rest.\"\"\"\n",
    "    assert is_link(rest), \"rest must be a linked list.\"\n",
    "    return [first, rest]\n",
    "\n",
    "def first(s):\n",
    "    \"\"\"Return the first element of a linked list s.\"\"\"\n",
    "    assert is_link(s), \"rest only applies to linked lists.\"\n",
    "    assert s != empty, \"empty linked list has no first element.\"\n",
    "    return s[0]\n",
    "\n",
    "def rest(s):\n",
    "    \"\"\"Return the rest of the elements of a linked list s.\"\"\"\n",
    "    assert is_link(s), \"rest only applies to linked lists.\"\n",
    "    assert s != empty, \"empty linked list has no rest.\"\n",
    "    return s[1]"
   ]
  },
  {
   "cell_type": "code",
   "execution_count": 24,
   "id": "04825a55",
   "metadata": {},
   "outputs": [
    {
     "name": "stdout",
     "output_type": "stream",
     "text": [
      "1\n",
      "[2, [3, [4, 'empty']]]\n"
     ]
    }
   ],
   "source": [
    "four = link(1, link(2, link(3, link(4, empty))))\n",
    "print(first(four))\n",
    "print(rest(four))"
   ]
  },
  {
   "cell_type": "code",
   "execution_count": 25,
   "id": "db17fe3b",
   "metadata": {},
   "outputs": [
    {
     "name": "stdout",
     "output_type": "stream",
     "text": [
      "4\n",
      "2\n"
     ]
    }
   ],
   "source": [
    "def len_link(s):\n",
    "    \"\"\"Return the length of linked list s.\"\"\"\n",
    "    length = 0\n",
    "    while s != empty:\n",
    "        s, length = rest(s), length + 1\n",
    "    return length\n",
    "\n",
    "def getitem_link(s, i):\n",
    "    \"\"\"Return the element at index i of linked list s.\"\"\"\n",
    "    while i > 0:\n",
    "        s, i =rest(s), i - 1\n",
    "    return first(s)\n",
    "\n",
    "print(len_link(four))\n",
    "print(getitem_link(four, 1))"
   ]
  },
  {
   "cell_type": "markdown",
   "id": "15955306",
   "metadata": {},
   "source": [
    "#### Recursive manipulation"
   ]
  },
  {
   "cell_type": "code",
   "execution_count": 26,
   "id": "259b8789",
   "metadata": {},
   "outputs": [
    {
     "name": "stdout",
     "output_type": "stream",
     "text": [
      "[1, [2, [3, [4, [1, [2, [3, [4, 'empty']]]]]]]]\n",
      "[1, [4, [9, [16, 'empty']]]]\n",
      "[2, [4, 'empty']]\n"
     ]
    },
    {
     "data": {
      "text/plain": [
       "'1, 2, 3, 4'"
      ]
     },
     "execution_count": 26,
     "metadata": {},
     "output_type": "execute_result"
    }
   ],
   "source": [
    "def len_link_recursive(s):\n",
    "    \"\"\"Return the length of alinked list s.\"\"\"\n",
    "    if s == empty:\n",
    "        return 0\n",
    "    return 1 + len_link_recursive(rest(s))\n",
    "\n",
    "def getitem_link_recursive(s, i):\n",
    "    \"\"\"Return the element at index i of linked list s.\"\"\"\n",
    "    if i == 0:\n",
    "        return first(s)\n",
    "    return getitem_link_recursive(rest(s), i - 1)\n",
    "\n",
    "# Recursion is also useful for transforming and combining linked lists.\n",
    "def extend_link(s, t):\n",
    "    \"\"\"Return a list with the elements of s followed by those of t.\"\"\"\n",
    "    assert is_link(s) and is_link(t)\n",
    "    if s == empty:\n",
    "        return t\n",
    "    else:\n",
    "        return link(first(s), extend_link(rest(s), t))\n",
    "    \n",
    "print(extend_link(four, four))\n",
    "\n",
    "def apply_to_all_link(f, s):\n",
    "    \"\"\"Apply f to each element of s.\"\"\"\n",
    "    assert is_link(s)\n",
    "    if s == empty:\n",
    "        return s\n",
    "    else:\n",
    "        return link(f(first(s)), apply_to_all_link(f, rest(s)))\n",
    "    \n",
    "print(apply_to_all_link(lambda x: x*x, four))\n",
    "\n",
    "def keep_if_link(f, s):\n",
    "    \"\"\"Return a list with elements of s for which f(e) is true.\"\"\"\n",
    "    assert is_link(s)\n",
    "    if s == empty:\n",
    "        return s\n",
    "    else:\n",
    "        kept = keep_if_link(f, rest(s))\n",
    "        if f(first(s)):\n",
    "            return link(first(s), kept)\n",
    "        else:\n",
    "            return kept\n",
    "        \n",
    "print(keep_if_link(lambda x: x%2 == 0, four))\n",
    "\n",
    "def join_link(s, separator):\n",
    "    \"\"\"Return a string of all elements in s separated by separator.\"\"\"\n",
    "    if s == empty:\n",
    "        return \"\"\n",
    "    elif rest(s) == empty:\n",
    "        return str(first(s))\n",
    "    else:\n",
    "        return str(first(s)) + separator + join_link(rest(s), separator)\n",
    "\n",
    "join_link(four, \", \")"
   ]
  },
  {
   "cell_type": "markdown",
   "id": "ffd85f2c",
   "metadata": {},
   "source": [
    "#### Recursive Construction"
   ]
  },
  {
   "cell_type": "code",
   "execution_count": 33,
   "id": "f72a40a1",
   "metadata": {},
   "outputs": [
    {
     "name": "stdout",
     "output_type": "stream",
     "text": [
      "[[2, 'empty'], [[1, [1, 'empty']], 'empty']]\n",
      "[[3, 'empty'], [[2, [1, 'empty']], [[1, [1, [1, 'empty']]], 'empty']]]\n",
      "3\n",
      "2 + 1\n",
      "1 + 1 + 1\n"
     ]
    }
   ],
   "source": [
    "def partitions(n, m):\n",
    "    \"\"\"Rerurn a linked list of partitions of n using parts of up to m.\n",
    "    Each partition is represented as a linked list.\n",
    "    \"\"\"\n",
    "    if n == 0:\n",
    "        return link(empty, empty) # A list containing the empty partition\n",
    "    elif n < 0 or m == 0:\n",
    "        return empty\n",
    "    else:\n",
    "        using_m = partitions(n-m, m)\n",
    "        with_m = apply_to_all_link(lambda s: link(m, s), using_m)\n",
    "        without_m = partitions(n, m-1)\n",
    "        return extend_link(with_m, without_m)\n",
    "\n",
    "def print_partitions(n, m):\n",
    "    lists = partitions(n, m)\n",
    "    strings = apply_to_all_link(lambda s:join_link(s, \" + \"), lists)\n",
    "    print(join_link(strings, \"\\n\"))\n",
    "        \n",
    "print(partitions(2, 2))\n",
    "print(partitions(3, 3))\n",
    "print_partitions(3, 3)"
   ]
  }
 ],
 "metadata": {
  "kernelspec": {
   "display_name": "Python 3 (ipykernel)",
   "language": "python",
   "name": "python3"
  },
  "language_info": {
   "codemirror_mode": {
    "name": "ipython",
    "version": 3
   },
   "file_extension": ".py",
   "mimetype": "text/x-python",
   "name": "python",
   "nbconvert_exporter": "python",
   "pygments_lexer": "ipython3",
   "version": "3.9.12"
  }
 },
 "nbformat": 4,
 "nbformat_minor": 5
}
