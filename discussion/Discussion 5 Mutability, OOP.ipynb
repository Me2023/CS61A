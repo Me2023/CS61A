{
 "cells": [
  {
   "cell_type": "markdown",
   "metadata": {},
   "source": [
    "# Discussion 5: Mutability, OOP"
   ]
  },
  {
   "cell_type": "markdown",
   "metadata": {},
   "source": [
    "## Mutability\n",
    "- `append(el)`: Add `el` to the end of the list. Return `None`.\n",
    "- `extend(lst)`: Extend the list by concatenating it with `lst`. Return `None`.\n",
    "- `insert(i, el)`: Insert `el` at index `i`. This does not replace any existing elements, but only adds the new element `el`. Return `None`.\n",
    "- `remove(el)`: Remove the first occurrence of `el` in list. Errors if `el` is not in the list. Return `None` otherwise.\n",
    "- `pop(i)`: Remove and return the element at index `i`."
   ]
  },
  {
   "cell_type": "markdown",
   "metadata": {},
   "source": [
    "### Q2: Add This Many"
   ]
  },
  {
   "cell_type": "code",
   "execution_count": 2,
   "metadata": {},
   "outputs": [
    {
     "name": "stdout",
     "output_type": "stream",
     "text": [
      "1\n",
      "2\n",
      "4\n",
      "2\n",
      "1\n",
      "5\n",
      "5\n"
     ]
    },
    {
     "data": {
      "text/plain": [
       "[1, 2, 4, 2, 1, 5, 5, 2, 2]"
      ]
     },
     "execution_count": 2,
     "metadata": {},
     "output_type": "execute_result"
    }
   ],
   "source": [
    "\n",
    "\n",
    "def add_this_many(x, el, s):\n",
    "    \"\"\" Adds el to the end of s the number of times x occurs in s.\n",
    "    >>> s = [1, 2, 4, 2, 1]\n",
    "    >>> add_this_many(1, 5, s)\n",
    "    >>> s\n",
    "    [1, 2, 4, 2, 1, 5, 5]\n",
    "    >>> add_this_many(2, 2, s)\n",
    "    >>> s\n",
    "    [1, 2, 4, 2, 1, 5, 5, 2, 2]\n",
    "    \"\"\"\n",
    "    \"*** YOUR CODE HERE ***\"\n",
    "    for elem in s[:]: \n",
    "        # print(elem)  # append之后start和end是否改变？=> 不改变\n",
    "        if elem == x:\n",
    "            s.append(el)\n",
    "    return s\n",
    "\n"
   ]
  },
  {
   "cell_type": "markdown",
   "metadata": {},
   "source": [
    "## OOP\n",
    "- **class**: a template for creating objects\n",
    "- **instance**: a single object created from a class\n",
    "- **instance variable**: a data attribute of an object, specific to an instance\n",
    "- **class variable**: a data attribute of an object, shared by all instances of a class\n",
    "- **method**: a bound function that may be called on all instances of a class\n",
    "\n",
    "Instance variables, class variables, and methods are all considered attributes of an object."
   ]
  },
  {
   "cell_type": "markdown",
   "metadata": {},
   "source": [
    "### Q3: WWPD: Student OOP\n"
   ]
  },
  {
   "cell_type": "code",
   "execution_count": null,
   "metadata": {},
   "outputs": [],
   "source": [
    "class Student:\n",
    "\n",
    "    extension_days = 3 # this is a class variable\n",
    "\n",
    "    def __init__(self, name, staff):\n",
    "        self.name = name # this is an instance variable\n",
    "        self.understanding = 0\n",
    "        staff.add_student(self)\n",
    "        print(\"Added\", self.name)\n",
    "\n",
    "    def visit_office_hours(self, staff):\n",
    "        staff.assist(self)\n",
    "        print(\"Thanks, \" + staff.name)\n",
    "\n",
    "class Professor:\n",
    "\n",
    "    def __init__(self, name):\n",
    "        self.name = name\n",
    "        self.students = {}\n",
    "\n",
    "    def add_student(self, student):\n",
    "        self.students[student.name] = student\n",
    "\n",
    "    def assist(self, student):\n",
    "        student.understanding += 1\n",
    "\n",
    "    def grant_more_extension_days(self, student, days):\n",
    "        student.extension_days = days\n"
   ]
  },
  {
   "cell_type": "markdown",
   "metadata": {},
   "source": [
    "### Q4: Keyboard"
   ]
  },
  {
   "cell_type": "code",
   "execution_count": null,
   "metadata": {},
   "outputs": [],
   "source": [
    "from curses import keyname\n",
    "\n",
    "\n",
    "class Button:\n",
    "    def __init__(self, pos, key):\n",
    "        self.pos = pos\n",
    "        self.key = key\n",
    "        self.times_pressed = 0\n",
    "\n",
    "class Keyboard:\n",
    "    \"\"\"A Keyboard takes in an arbitrary amount of buttons, and has a\n",
    "    dictionary of positions as keys, and values as Buttons.\n",
    "    >>> b1 = Button(0, \"H\")\n",
    "    >>> b2 = Button(1, \"I\")\n",
    "    >>> k = Keyboard(b1, b2)\n",
    "    >>> k.buttons[0].key\n",
    "    'H'\n",
    "    >>> k.press(1)\n",
    "    'I'\n",
    "    >>> k.press(2) # No button at this position\n",
    "    ''\n",
    "    >>> k.typing([0, 1])\n",
    "    'HI'\n",
    "    >>> k.typing([1, 0])\n",
    "    'IH'\n",
    "    >>> b1.times_pressed\n",
    "    2\n",
    "    >>> b2.times_pressed\n",
    "    3\n",
    "    \"\"\"\n",
    "    def __init__(self, *args):\n",
    "        self.buttons = {}\n",
    "        for elem in args:\n",
    "            self.buttons += {elem.pos: elem.key}\n",
    "\n",
    "    def press(self, info):\n",
    "        \"\"\"Takes in a position of the button pressed, and\n",
    "        returns that button's output.\"\"\"\n",
    "        if info in self.buttons:\n",
    "            a = self.buttons[info]\n",
    "            a.times_pressed += 1\n",
    "            return a.key\n",
    "        return ''\n",
    "\n",
    "    def typing(self, typing_input):\n",
    "        \"\"\"Takes in a list of positions of buttons pressed, and\n",
    "        returns the total output.\"\"\"\n",
    "        a = ''\n",
    "        for info in typing_input:\n",
    "            a += self.press(info)\n",
    "        return a\n"
   ]
  }
 ],
 "metadata": {
  "kernelspec": {
   "display_name": "Python 3.10.5 64-bit",
   "language": "python",
   "name": "python3"
  },
  "language_info": {
   "codemirror_mode": {
    "name": "ipython",
    "version": 3
   },
   "file_extension": ".py",
   "mimetype": "text/x-python",
   "name": "python",
   "nbconvert_exporter": "python",
   "pygments_lexer": "ipython3",
   "version": "3.10.5"
  },
  "orig_nbformat": 4,
  "vscode": {
   "interpreter": {
    "hash": "9602f8c35a350c7a70699f60fbe2e61e3e2a9c64108871fc1f9dd823bd15e54f"
   }
  }
 },
 "nbformat": 4,
 "nbformat_minor": 2
}
