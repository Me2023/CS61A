{
 "cells": [
  {
   "cell_type": "markdown",
   "metadata": {},
   "source": [
    "# Discussion 4: Sequences"
   ]
  },
  {
   "cell_type": "markdown",
   "metadata": {},
   "source": [
    "## Sequences"
   ]
  },
  {
   "cell_type": "markdown",
   "metadata": {},
   "source": [
    "### Q1: Map, Filter, Reduce"
   ]
  },
  {
   "cell_type": "code",
   "execution_count": 3,
   "metadata": {},
   "outputs": [],
   "source": [
    "def my_map(fn, seq):\n",
    "    \"\"\"Applies fn onto each element in seq and returns a list.\n",
    "    >>> my_map(lambda x: x*x, [1, 2, 3])\n",
    "    [1, 4, 9]\n",
    "    \"\"\"\n",
    "    \"*** YOUR CODE HERE ***\"\n",
    "    result = []\n",
    "    for x in seq:\n",
    "        result.append(fn(x))   # result += [fn(elem)]\n",
    "    return result\n",
    "    \n",
    "\n",
    "def my_filter(pred, seq):\n",
    "    \"\"\"Keeps elements in seq only if they satisfy pred.\n",
    "    >>> my_filter(lambda x: x % 2 == 0, [1, 2, 3, 4])  # new list has only even-valued elements\n",
    "    [2, 4]\n",
    "    \"\"\"\n",
    "    \"*** YOUR CODE HERE ***\"\n",
    "    result = []\n",
    "    for x in seq:\n",
    "        if pred(x):\n",
    "            result += x\n",
    "    return result\n",
    "\n",
    "\n",
    "def my_reduce(combiner, seq):\n",
    "    \"\"\"Combines elements in seq using combiner.\n",
    "    seq will have at least one element.\n",
    "    >>> my_reduce(lambda x, y: x + y, [1, 2, 3, 4])  # 1 + 2 + 3 + 4\n",
    "    10\n",
    "    >>> my_reduce(lambda x, y: x * y, [1, 2, 3, 4])  # 1 * 2 * 3 * 4\n",
    "    24\n",
    "    >>> my_reduce(lambda x, y: x * y, [4])\n",
    "    4\n",
    "    >>> my_reduce(lambda x, y: x + 2 * y, [1, 2, 3]) # (1 + 2 * 2) + 2 * 3\n",
    "    11\n",
    "    \"\"\"\n",
    "    \"*** YOUR CODE HERE ***\"\n",
    "    # solution\n",
    "    total = seq[0]\n",
    "    for elem in seq[1:]:\n",
    "        total = combiner(total, elem)\n",
    "    return total\n",
    "    \n",
    "        \n"
   ]
  },
  {
   "cell_type": "markdown",
   "metadata": {},
   "source": [
    "### Q2: Count palindromes"
   ]
  },
  {
   "cell_type": "code",
   "execution_count": 4,
   "metadata": {},
   "outputs": [],
   "source": [
    "def count_palindromes(L):\n",
    "    \"\"\"The number of palindromic words in the sequence of strings\n",
    "    L (ignoring case).\n",
    "\n",
    "    >>> count_palindromes((\"Acme\", \"Madam\", \"Pivot\", \"Pip\"))\n",
    "    2\n",
    "    \"\"\"\n",
    "    return len(filter(lambda s: s.lower() == s[::-1].lower(), L))\n"
   ]
  },
  {
   "cell_type": "markdown",
   "metadata": {},
   "source": [
    "## Lists\n",
    "### List slicing\n",
    "```\n",
    "lst[<start index>:<end index>:<step size>]\n",
    "```"
   ]
  },
  {
   "cell_type": "code",
   "execution_count": 6,
   "metadata": {},
   "outputs": [
    {
     "name": "stdout",
     "output_type": "stream",
     "text": [
      "[6, 5, 4]\n",
      "[3, 2, 1, 0]\n",
      "[0, 1, 2, 3, 4, 5, 6]\n",
      "[6, 4, 2, 0]\n"
     ]
    }
   ],
   "source": [
    "lst = [6, 5, 4, 3, 2, 1, 0]\n",
    "print(lst[:3])\n",
    "print(lst[3:])\n",
    "print(lst[::-1])\n",
    "print(lst[::2])"
   ]
  },
  {
   "cell_type": "markdown",
   "metadata": {},
   "source": [
    "### List comprehensions\n",
    "```\n",
    "[<expression> for <element> in <sequence> if <conditional>]\n",
    "```"
   ]
  },
  {
   "cell_type": "code",
   "execution_count": 8,
   "metadata": {},
   "outputs": [
    {
     "name": "stdout",
     "output_type": "stream",
     "text": [
      "[4, 16]\n"
     ]
    }
   ],
   "source": [
    "list1 = [i**2 for i in [1, 2, 3, 4] if i % 2 == 0]\n",
    "print(list1)"
   ]
  },
  {
   "cell_type": "markdown",
   "metadata": {},
   "source": [
    "### Q4: Even weighted\n",
    "\n"
   ]
  },
  {
   "cell_type": "code",
   "execution_count": null,
   "metadata": {},
   "outputs": [],
   "source": [
    "def even_weighted(s):\n",
    "    \"\"\"\n",
    "    >>> x = [1, 2, 3, 4, 5, 6]\n",
    "    >>> even_weighted(x)\n",
    "    [0, 6, 20]\n",
    "    \"\"\"\n",
    "    return [i * s[i] for i in range(len(s)) if i % 2 == 0]"
   ]
  },
  {
   "cell_type": "markdown",
   "metadata": {},
   "source": [
    "## Q5 Max Product"
   ]
  },
  {
   "cell_type": "code",
   "execution_count": 9,
   "metadata": {},
   "outputs": [],
   "source": [
    "def max_product(s):\n",
    "    \"\"\"Return the maximum product that can be formed using\n",
    "    non-consecutive elements of s.\n",
    "    >>> max_product([10,3,1,9,2]) # 10 * 9\n",
    "    90\n",
    "    >>> max_product([5,10,5,10,5]) # 5 * 5 * 5\n",
    "    125\n",
    "    >>> max_product([])\n",
    "    1\n",
    "    \"\"\"\n",
    "    # solution    \n",
    "    if s == []:\n",
    "        return 1\n",
    "    else:\n",
    "        return max(max_product(s[1:]), s[0] * max_product(s[2:]))"
   ]
  },
  {
   "cell_type": "markdown",
   "metadata": {},
   "source": [
    "## Dictionaries"
   ]
  },
  {
   "cell_type": "code",
   "execution_count": 14,
   "metadata": {},
   "outputs": [
    {
     "name": "stdout",
     "output_type": "stream",
     "text": [
      "25\n",
      "{'pikachu': 25, 'dragonair': 148, 'mew': 151, 'jolteon': 135}\n",
      "False\n"
     ]
    },
    {
     "ename": "TypeError",
     "evalue": "unhashable type: 'list'",
     "output_type": "error",
     "traceback": [
      "\u001b[1;31m---------------------------------------------------------------------------\u001b[0m",
      "\u001b[1;31mTypeError\u001b[0m                                 Traceback (most recent call last)",
      "\u001b[1;32mUntitled-1.ipynb Cell 16\u001b[0m in \u001b[0;36m<cell line: 6>\u001b[1;34m()\u001b[0m\n\u001b[0;32m      <a href='vscode-notebook-cell:Untitled-1.ipynb?jupyter-notebook#ch0000026untitled?line=3'>4</a>\u001b[0m \u001b[39mprint\u001b[39m(pokemon)\n\u001b[0;32m      <a href='vscode-notebook-cell:Untitled-1.ipynb?jupyter-notebook#ch0000026untitled?line=4'>5</a>\u001b[0m \u001b[39mprint\u001b[39m(\u001b[39m'\u001b[39m\u001b[39mmewtwo\u001b[39m\u001b[39m'\u001b[39m \u001b[39min\u001b[39;00m pokemon)\n\u001b[1;32m----> <a href='vscode-notebook-cell:Untitled-1.ipynb?jupyter-notebook#ch0000026untitled?line=5'>6</a>\u001b[0m pokemon[[\u001b[39m'\u001b[39m\u001b[39mfiretype\u001b[39m\u001b[39m'\u001b[39m, \u001b[39m'\u001b[39m\u001b[39mflying\u001b[39m\u001b[39m'\u001b[39m]] \u001b[39m=\u001b[39m \u001b[39m146\u001b[39m\n",
      "\u001b[1;31mTypeError\u001b[0m: unhashable type: 'list'"
     ]
    }
   ],
   "source": [
    "pokemon = {'pikachu': 25, 'dragonair': 148, 'mew': 151}\n",
    "print(pokemon['pikachu'])\n",
    "pokemon['jolteon'] = 135\n",
    "print(pokemon)\n",
    "print('mewtwo' in pokemon)\n",
    "pokemon[['firetype', 'flying']] = 146"
   ]
  },
  {
   "cell_type": "code",
   "execution_count": null,
   "metadata": {},
   "outputs": [],
   "source": []
  }
 ],
 "metadata": {
  "kernelspec": {
   "display_name": "Python 3.10.5 64-bit",
   "language": "python",
   "name": "python3"
  },
  "language_info": {
   "codemirror_mode": {
    "name": "ipython",
    "version": 3
   },
   "file_extension": ".py",
   "mimetype": "text/x-python",
   "name": "python",
   "nbconvert_exporter": "python",
   "pygments_lexer": "ipython3",
   "version": "3.10.5"
  },
  "orig_nbformat": 4,
  "vscode": {
   "interpreter": {
    "hash": "9602f8c35a350c7a70699f60fbe2e61e3e2a9c64108871fc1f9dd823bd15e54f"
   }
  }
 },
 "nbformat": 4,
 "nbformat_minor": 2
}
