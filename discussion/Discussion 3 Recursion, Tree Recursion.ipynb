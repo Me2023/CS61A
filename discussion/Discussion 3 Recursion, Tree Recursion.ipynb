{
 "cells": [
  {
   "cell_type": "markdown",
   "metadata": {},
   "source": [
    "# Discussion 3: Recursion, Tree Recursion"
   ]
  },
  {
   "cell_type": "markdown",
   "metadata": {},
   "source": [
    "## Recursion"
   ]
  },
  {
   "cell_type": "code",
   "execution_count": 48,
   "metadata": {},
   "outputs": [],
   "source": [
    "def factorial(n):\n",
    "    \"\"\"Return the factorial of N, a positive integer. \"\"\"\n",
    "    if n == 1:\n",
    "        return 1 # base case \n",
    "    else:\n",
    "        return n * factorial(n - 1)  # we can compute factorial(n) by multiplying the result of our smaller problem factorial(n-1) (which represents (n-1)!) by n\n",
    "        # factorial(n) depends on the smaller problem of factorial(n-1)"
   ]
  },
  {
   "cell_type": "markdown",
   "metadata": {},
   "source": [
    "There are three main steps in a recursive definition:\n",
    "\n",
    "- **Base case.** You can think of the base case as the case of the simplest function input, or as the stopping condition for the recursion.\n",
    "\n",
    "- **Recursive call on a smaller problem.** We assume that a recursive call on this smaller problem will give us the expected result; we call this idea the \"recursive leap of faith\".\n",
    "\n",
    "- **Solve the larger problem.** \n"
   ]
  },
  {
   "cell_type": "markdown",
   "metadata": {},
   "source": [
    "## Q1: Warm Up: Recursive Multiplication"
   ]
  },
  {
   "cell_type": "code",
   "execution_count": 49,
   "metadata": {},
   "outputs": [
    {
     "data": {
      "text/plain": [
       "3"
      ]
     },
     "execution_count": 49,
     "metadata": {},
     "output_type": "execute_result"
    }
   ],
   "source": [
    "def multiply(m, n):\n",
    "    \"\"\" Takes two positive integers and returns their product using recursion.\n",
    "    >>> multiply(5, 3)\n",
    "    15\n",
    "    \"\"\"\n",
    "    \"*** YOUR CODE HERE ***\"\n",
    "    if m == 1:\n",
    "        return n\n",
    "    if n == 1:\n",
    "        return m\n",
    "    if m > n:\n",
    "        return m + multiply(m, n-1)\n",
    "    else:\n",
    "        return n + multiply(m-1, n)\n",
    "    \n",
    "multiply(1, 3)"
   ]
  },
  {
   "cell_type": "markdown",
   "metadata": {},
   "source": [
    "## Q3: Find the Bug"
   ]
  },
  {
   "cell_type": "code",
   "execution_count": 50,
   "metadata": {},
   "outputs": [
    {
     "data": {
      "text/plain": [
       "15"
      ]
     },
     "execution_count": 50,
     "metadata": {},
     "output_type": "execute_result"
    }
   ],
   "source": [
    "def skip_mul(n):\n",
    "    \"\"\"Return the product of n * (n - 2) * (n - 4) * ...\n",
    "\n",
    "    >>> skip_mul(5) # 5 * 3 * 1\n",
    "    15\n",
    "    >>> skip_mul(8) # 8 * 6 * 4 * 2\n",
    "    384\n",
    "    \"\"\"\n",
    "    if n == 2:\n",
    "        return 2\n",
    "    if n == 1:\n",
    "        return 1\n",
    "    else:\n",
    "        return n * skip_mul(n - 2)\n",
    "\n",
    "skip_mul(5)"
   ]
  },
  {
   "cell_type": "markdown",
   "metadata": {},
   "source": [
    "## Q4: Is Prime"
   ]
  },
  {
   "cell_type": "code",
   "execution_count": 51,
   "metadata": {},
   "outputs": [
    {
     "data": {
      "text/plain": [
       "False"
      ]
     },
     "execution_count": 51,
     "metadata": {},
     "output_type": "execute_result"
    }
   ],
   "source": [
    "def is_prime(n):\n",
    "    \"\"\"Returns True if n is a prime number and False otherwise.\n",
    "\n",
    "    >>> is_prime(2)\n",
    "    True\n",
    "    >>> is_prime(16)\n",
    "    False\n",
    "    >>> is_prime(521)\n",
    "    True\n",
    "    \"\"\"\n",
    "    \"*** YOUR CODE HERE ***\"\n",
    "    \n",
    "    if n == 1:\n",
    "        return False\n",
    "    \n",
    "    k = n // 2 \n",
    "\n",
    "    def isprime(x):\n",
    "        if n % x == 0 and x > 1:\n",
    "            return False\n",
    "        elif x > 1:\n",
    "            return isprime(x - 1)\n",
    "        return True\n",
    "    \n",
    "    return isprime(k)\n",
    "\n",
    "\n",
    "is_prime(16)"
   ]
  },
  {
   "cell_type": "markdown",
   "metadata": {},
   "source": [
    "## Q5: Recursive Hailstone"
   ]
  },
  {
   "cell_type": "code",
   "execution_count": 52,
   "metadata": {},
   "outputs": [],
   "source": [
    "def hailstone(n):\n",
    "    \"\"\"Print out the hailstone sequence starting at n, and return the number of elements in the sequence.\n",
    "    >>> a = hailstone(10)\n",
    "    10\n",
    "    5\n",
    "    16\n",
    "    8\n",
    "    4\n",
    "    2\n",
    "    1\n",
    "    >>> a\n",
    "    7\n",
    "    >>> b = hailstone(1)\n",
    "    1\n",
    "    >>> b\n",
    "    1\n",
    "    \"\"\"\n",
    "    \"*** YOUR CODE HERE ***\"\n",
    "    if n == 1:\n",
    "        return 1\n",
    "    if n % 2 == 0:\n",
    "        print(n/2)\n",
    "        return hailstone(n/2)\n",
    "    if n % 2 == 1:\n",
    "        print(n*3+1)\n",
    "        return hailstone(n*3+1)\n"
   ]
  },
  {
   "cell_type": "markdown",
   "metadata": {},
   "source": [
    "## Q6: Merge Numbers"
   ]
  },
  {
   "cell_type": "code",
   "execution_count": 53,
   "metadata": {},
   "outputs": [],
   "source": [
    "def merge(n1, n2):\n",
    "    \"\"\" Merges two numbers by digit in decreasing order\n",
    "    >>> merge(31, 42)\n",
    "    4321\n",
    "    >>> merge(21, 0)\n",
    "    21\n",
    "    >>> merge (21, 31) \n",
    "    3211\n",
    "    \"\"\"\n",
    "    \"*** YOUR CODE HERE ***\"\n",
    "    if n1 == 0:\n",
    "        return n2\n",
    "    elif n2 == 0:\n",
    "        return n1\n",
    "\n",
    "    elif n1 % 10 > n2 % 10:\n",
    "        merge(n1, n2 // 10) * 10 + n2 % 10\n",
    "    else:\n",
    "        merge(n1 // 10, n2) * 10 + n1 % 10\n",
    "        \n",
    "# ?为什么运行不了\n",
    "    "
   ]
  },
  {
   "cell_type": "code",
   "execution_count": 54,
   "metadata": {},
   "outputs": [
    {
     "data": {
      "text/plain": [
       "4321"
      ]
     },
     "execution_count": 54,
     "metadata": {},
     "output_type": "execute_result"
    }
   ],
   "source": [
    "def merge(n1, n2):\n",
    "    \"\"\" Merges two numbers by digit in decreasing order\n",
    "    >>> merge(31, 42)\n",
    "    4321\n",
    "    >>> merge(21, 0)\n",
    "    21\n",
    "    >>> merge (21, 31) \n",
    "    3211\n",
    "    \"\"\"\n",
    "    if n1 == 0:\n",
    "        return n2\n",
    "    elif n2 == 0:\n",
    "        return n1\n",
    "    elif n1 % 10 < n2 % 10:\n",
    "        return merge(n1 // 10, n2) * 10 + n1 % 10\n",
    "    else:\n",
    "        return merge(n1, n2 // 10) * 10 + n2 % 10\n",
    "    \n",
    "merge(31, 42)"
   ]
  },
  {
   "cell_type": "markdown",
   "metadata": {},
   "source": [
    "# Tree Recursion"
   ]
  },
  {
   "cell_type": "markdown",
   "metadata": {},
   "source": [
    "## Q7: Count Stair Ways"
   ]
  },
  {
   "cell_type": "code",
   "execution_count": 55,
   "metadata": {},
   "outputs": [],
   "source": [
    "def count_stair_ways(n):\n",
    "    \"\"\"Returns the number of ways to climb up a flight of\n",
    "    n stairs, moving either 1 step or 2 steps at a time.\n",
    "    >>> count_stair_ways(4)\n",
    "    5\n",
    "    \"\"\"\n",
    "    \"*** YOUR CODE HERE ***\"\n",
    "    if n == 1:\n",
    "        return 1\n",
    "    if n == 2:\n",
    "        return 2\n",
    "    else:\n",
    "        return count_stair_ways(n-1) + count_stair_ways(n-2)"
   ]
  },
  {
   "cell_type": "markdown",
   "metadata": {},
   "source": [
    "## Q8: Count K\n",
    "Solution"
   ]
  },
  {
   "cell_type": "code",
   "execution_count": 56,
   "metadata": {},
   "outputs": [],
   "source": [
    "def count_k(n, k):\n",
    "    \"\"\" Counts the number of paths up a flight of n stairs\n",
    "    when taking up to and including k steps at a time.\n",
    "    >>> count_k(3, 3) # 3, 2 + 1, 1 + 2, 1 + 1 + 1\n",
    "    4\n",
    "    >>> count_k(4, 4)\n",
    "    8\n",
    "    >>> count_k(10, 3)\n",
    "    274\n",
    "    >>> count_k(300, 1) # Only one step at a time\n",
    "    1\n",
    "    \"\"\"\n",
    "    if n == 0:\n",
    "        return 1\n",
    "    elif n < 0:\n",
    "        return 0\n",
    "    else:\n",
    "        total = 0\n",
    "        i = 1\n",
    "        while i <= k:\n",
    "            total += count_k(n - i, k)\n",
    "            i += 1\n",
    "        return total"
   ]
  }
 ],
 "metadata": {
  "kernelspec": {
   "display_name": "Python 3.10.5 64-bit",
   "language": "python",
   "name": "python3"
  },
  "language_info": {
   "codemirror_mode": {
    "name": "ipython",
    "version": 3
   },
   "file_extension": ".py",
   "mimetype": "text/x-python",
   "name": "python",
   "nbconvert_exporter": "python",
   "pygments_lexer": "ipython3",
   "version": "3.10.5"
  },
  "orig_nbformat": 4,
  "vscode": {
   "interpreter": {
    "hash": "9602f8c35a350c7a70699f60fbe2e61e3e2a9c64108871fc1f9dd823bd15e54f"
   }
  }
 },
 "nbformat": 4,
 "nbformat_minor": 2
}
